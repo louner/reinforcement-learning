{
 "cells": [
  {
   "cell_type": "code",
   "execution_count": 13,
   "metadata": {},
   "outputs": [],
   "source": [
    "import sys\n",
    "sys.path.append('/home/allen_kuo/reinforcement-learning/formula1')\n",
    "from lib import *\n",
    "import math\n",
    "from random import randint, choice\n",
    "from gym.envs.classic_control import CartPoleEnv\n",
    "import tensorflow as tf\n",
    "import pandas as pd\n",
    "import numpy as np\n",
    "import heapq\n",
    "from random import random, sample\n",
    "from IPython import display\n",
    "import matplotlib.pyplot as plt"
   ]
  },
  {
   "cell_type": "code",
   "execution_count": 21,
   "metadata": {},
   "outputs": [],
   "source": [
    "batch_size = 256\n",
    "T = batch_size*100\n",
    "GAMMA = 0.99\n",
    "reward_decay = 1.0\n",
    "mu_decay = 0.999\n",
    "learning_rate = 0.001\n",
    "update_target_network_time = 1000\n",
    "units = 32\n",
    "action_size = 2\n",
    "ACTIONS = ['left', 'right']\n",
    "n_layers = 4"
   ]
  },
  {
   "cell_type": "code",
   "execution_count": 24,
   "metadata": {},
   "outputs": [],
   "source": [
    "# common part is cnn1-cnn1-fc\n",
    "def build_network():\n",
    "    with tf.variable_scope('Action-Critic-Network-Common', reuse=tf.AUTO_REUSE):\n",
    "        layers = [0]*layer_n\n",
    "        inputs = tf.placeholder(shape=(None, 4), dtype=tf.float32) # track image\n",
    "        layers[0] = tf.layers.dense(inputs=inputs, units=units, activation=tf.nn.tanh, name='layer_0')\n",
    "        for i in range(n_layers-1):\n",
    "            layers[i+1] = tf.layers.dense(inputs=layers[i], units=units, activation=tf.nn.tanh, name='layer_%d'%(i+1))\n",
    "            \n",
    "        outputs = tf.layers.dense(inputs=layers[-1], units=action_size, activation=tf.nn.softmax)\n",
    "\n",
    "    return inputs, outputs"
   ]
  },
  {
   "cell_type": "code",
   "execution_count": 40,
   "metadata": {},
   "outputs": [],
   "source": [
    "class ACNetwork:\n",
    "    def __init__(self):\n",
    "        self.action_size = len(ACTIONS)\n",
    "        self.output_size = 1\n",
    "        self.model_folder = './model/actor_critic_network'\n",
    "        \n",
    "        self.advantage = tf.placeholder(shape=(None, self.action_size), dtype=tf.float32, name='advantage')\n",
    "        self.rewards = tf.placeholder(shape=(None), dtype=tf.float32, name='rewards')\n",
    "        self.global_step = tf.Variable(0, dtype=tf.int32)\n",
    "        \n",
    "        inputs, output = build_network()\n",
    "        self.inputs = inputs\n",
    "        self.common = output\n",
    "    \n",
    "        self.policy_metrics = {}\n",
    "        self.policy_metrics['loss'] = []\n",
    "        \n",
    "        self.value_metrics = {}\n",
    "        self.value_metrics['loss'] = []\n",
    "        \n",
    "        with tf.variable_scope('policy-network'):\n",
    "            self.actions_values = tf.layers.dense(output, units=self.action_size, activation=tf.nn.softmax) # batch_size, action_size\n",
    "            self.best_action = tf.argmax(self.actions_values, axis=1)\n",
    "\n",
    "            self.policy_loss = tf.reduce_sum(tf.log(self.actions_values) * self.advantage)*-1\n",
    "            \n",
    "        with tf.variable_scope('value-network'):\n",
    "            self.state_value = tf.layers.dense(output, units=self.output_size)\n",
    "            self.value_loss = tf.reduce_sum(tf.square(self.state_value - self.rewards))\n",
    "        \n",
    "        self.loss = self.policy_loss + self.value_loss\n",
    "        optimizer = tf.train.AdamOptimizer(learning_rate=learning_rate)\n",
    "        self.train_op = self.do_clipping(self.loss, optimizer)\n",
    "\n",
    "        self.sess = tf.Session()\n",
    "        self.target_sess = tf.Session()\n",
    "        \n",
    "        self.sess.run(tf.global_variables_initializer())\n",
    "        self.target_sess.run(tf.global_variables_initializer())\n",
    "\n",
    "        self.saver = tf.train.Saver()\n",
    "        \n",
    "    def do_clipping(self, loss, optimizer):\n",
    "        grad_vars = optimizer.compute_gradients(loss)\n",
    "        self.grad_vars = [\n",
    "          (tf.clip_by_norm(grad, clip_norm=10), var)\n",
    "          for grad, var in grad_vars if grad is not None\n",
    "        ]\n",
    "        self.grad_dict = dict([\n",
    "          [var.name, grad]\n",
    "          for grad, var in self.grad_vars\n",
    "        ])\n",
    "\n",
    "        train_step = optimizer.apply_gradients(self.grad_vars, global_step=self.global_step)\n",
    "        return train_step\n",
    "    \n",
    "    def get_action(self, state):\n",
    "        best_action = self.target_sess.run(self.best_action, feed_dict={self.inputs: [state]})[0]\n",
    "        return best_action\n",
    "        \n",
    "    def get_state_values(self, states):\n",
    "        state_values = self.target_sess.run(self.state_value, feed_dict={self.inputs: states})\n",
    "        return state_values\n",
    "    \n",
    "    def get_state_value(self, state):\n",
    "        return self.get_state_values([state])[0]\n",
    "    \n",
    "    def get_advantages(self, batch):\n",
    "        advantages = []\n",
    "        for transaction in batch:\n",
    "            # unselected actions get 0 advantage, selected action get reward - current_state_value advantage\n",
    "            advantage = [0]*self.action_size\n",
    "            advantage[transaction['action']] = transaction['advantage']\n",
    "\n",
    "            advantages.append(advantage)\n",
    "            \n",
    "        advantages = np.array(advantages)\n",
    "        return advantages\n",
    "\n",
    "    def update(self, batch):\n",
    "        states = [transaction['state'] for transaction in batch]\n",
    "        advantages = self.get_advantages(batch)\n",
    "        rewards = [transaction['reward'] for transaction in batch]\n",
    "        \n",
    "        return self.sess.run([self.train_op, self.loss], feed_dict={self.inputs: states, self.advantage: advantages, self.rewards: rewards})\n",
    "        \n",
    "    def reload(self, model_name):\n",
    "        self.saver.save(self.sess, '%s/%s'%(self.model_folder, model_name))\n",
    "        self.saver.restore(self.target_sess, tf.train.latest_checkpoint(self.model_folder))"
   ]
  },
  {
   "cell_type": "code",
   "execution_count": 41,
   "metadata": {
    "scrolled": true
   },
   "outputs": [
    {
     "ename": "KeyboardInterrupt",
     "evalue": "",
     "output_type": "error",
     "traceback": [
      "\u001b[0;31m---------------------------------------------------------------------------\u001b[0m",
      "\u001b[0;31mKeyboardInterrupt\u001b[0m                         Traceback (most recent call last)",
      "\u001b[0;32m<ipython-input-41-4662b5377251>\u001b[0m in \u001b[0;36m<module>\u001b[0;34m()\u001b[0m\n\u001b[1;32m     36\u001b[0m     \u001b[0;32mif\u001b[0m \u001b[0mbatch\u001b[0m\u001b[0;34m.\u001b[0m\u001b[0many\u001b[0m\u001b[0;34m(\u001b[0m\u001b[0;34m)\u001b[0m \u001b[0;32mand\u001b[0m \u001b[0mbatch\u001b[0m \u001b[0;32mis\u001b[0m \u001b[0;32mnot\u001b[0m \u001b[0mNone\u001b[0m\u001b[0;34m:\u001b[0m\u001b[0;34m\u001b[0m\u001b[0m\n\u001b[1;32m     37\u001b[0m         \u001b[0;31m#add_label(batch, Q, GAMMA)\u001b[0m\u001b[0;34m\u001b[0m\u001b[0;34m\u001b[0m\u001b[0m\n\u001b[0;32m---> 38\u001b[0;31m         \u001b[0m_\u001b[0m\u001b[0;34m,\u001b[0m \u001b[0mloss\u001b[0m \u001b[0;34m=\u001b[0m \u001b[0mac_network\u001b[0m\u001b[0;34m.\u001b[0m\u001b[0mupdate\u001b[0m\u001b[0;34m(\u001b[0m\u001b[0mbatch\u001b[0m\u001b[0;34m)\u001b[0m\u001b[0;34m\u001b[0m\u001b[0m\n\u001b[0m\u001b[1;32m     39\u001b[0m \u001b[0;34m\u001b[0m\u001b[0m\n\u001b[1;32m     40\u001b[0m         \u001b[0mmetrics\u001b[0m\u001b[0;34m[\u001b[0m\u001b[0;34m'loss'\u001b[0m\u001b[0;34m]\u001b[0m\u001b[0;34m.\u001b[0m\u001b[0mappend\u001b[0m\u001b[0;34m(\u001b[0m\u001b[0mloss\u001b[0m\u001b[0;34m)\u001b[0m\u001b[0;34m\u001b[0m\u001b[0m\n",
      "\u001b[0;32m<ipython-input-40-fe1013d258d3>\u001b[0m in \u001b[0;36mupdate\u001b[0;34m(self, batch)\u001b[0m\n\u001b[1;32m     83\u001b[0m         \u001b[0mrewards\u001b[0m \u001b[0;34m=\u001b[0m \u001b[0;34m[\u001b[0m\u001b[0mtransaction\u001b[0m\u001b[0;34m[\u001b[0m\u001b[0;34m'reward'\u001b[0m\u001b[0;34m]\u001b[0m \u001b[0;32mfor\u001b[0m \u001b[0mtransaction\u001b[0m \u001b[0;32min\u001b[0m \u001b[0mbatch\u001b[0m\u001b[0;34m]\u001b[0m\u001b[0;34m\u001b[0m\u001b[0m\n\u001b[1;32m     84\u001b[0m \u001b[0;34m\u001b[0m\u001b[0m\n\u001b[0;32m---> 85\u001b[0;31m         \u001b[0;32mreturn\u001b[0m \u001b[0mself\u001b[0m\u001b[0;34m.\u001b[0m\u001b[0msess\u001b[0m\u001b[0;34m.\u001b[0m\u001b[0mrun\u001b[0m\u001b[0;34m(\u001b[0m\u001b[0;34m[\u001b[0m\u001b[0mself\u001b[0m\u001b[0;34m.\u001b[0m\u001b[0mtrain_op\u001b[0m\u001b[0;34m,\u001b[0m \u001b[0mself\u001b[0m\u001b[0;34m.\u001b[0m\u001b[0mloss\u001b[0m\u001b[0;34m]\u001b[0m\u001b[0;34m,\u001b[0m \u001b[0mfeed_dict\u001b[0m\u001b[0;34m=\u001b[0m\u001b[0;34m{\u001b[0m\u001b[0mself\u001b[0m\u001b[0;34m.\u001b[0m\u001b[0minputs\u001b[0m\u001b[0;34m:\u001b[0m \u001b[0mstates\u001b[0m\u001b[0;34m,\u001b[0m \u001b[0mself\u001b[0m\u001b[0;34m.\u001b[0m\u001b[0madvantage\u001b[0m\u001b[0;34m:\u001b[0m \u001b[0madvantages\u001b[0m\u001b[0;34m,\u001b[0m \u001b[0mself\u001b[0m\u001b[0;34m.\u001b[0m\u001b[0mrewards\u001b[0m\u001b[0;34m:\u001b[0m \u001b[0mrewards\u001b[0m\u001b[0;34m}\u001b[0m\u001b[0;34m)\u001b[0m\u001b[0;34m\u001b[0m\u001b[0m\n\u001b[0m\u001b[1;32m     86\u001b[0m \u001b[0;34m\u001b[0m\u001b[0m\n\u001b[1;32m     87\u001b[0m     \u001b[0;32mdef\u001b[0m \u001b[0mreload\u001b[0m\u001b[0;34m(\u001b[0m\u001b[0mself\u001b[0m\u001b[0;34m,\u001b[0m \u001b[0mmodel_name\u001b[0m\u001b[0;34m)\u001b[0m\u001b[0;34m:\u001b[0m\u001b[0;34m\u001b[0m\u001b[0m\n",
      "\u001b[0;32m/usr/local/lib/python2.7/site-packages/tensorflow/python/client/session.pyc\u001b[0m in \u001b[0;36mrun\u001b[0;34m(self, fetches, feed_dict, options, run_metadata)\u001b[0m\n\u001b[1;32m    875\u001b[0m     \u001b[0;32mtry\u001b[0m\u001b[0;34m:\u001b[0m\u001b[0;34m\u001b[0m\u001b[0m\n\u001b[1;32m    876\u001b[0m       result = self._run(None, fetches, feed_dict, options_ptr,\n\u001b[0;32m--> 877\u001b[0;31m                          run_metadata_ptr)\n\u001b[0m\u001b[1;32m    878\u001b[0m       \u001b[0;32mif\u001b[0m \u001b[0mrun_metadata\u001b[0m\u001b[0;34m:\u001b[0m\u001b[0;34m\u001b[0m\u001b[0m\n\u001b[1;32m    879\u001b[0m         \u001b[0mproto_data\u001b[0m \u001b[0;34m=\u001b[0m \u001b[0mtf_session\u001b[0m\u001b[0;34m.\u001b[0m\u001b[0mTF_GetBuffer\u001b[0m\u001b[0;34m(\u001b[0m\u001b[0mrun_metadata_ptr\u001b[0m\u001b[0;34m)\u001b[0m\u001b[0;34m\u001b[0m\u001b[0m\n",
      "\u001b[0;32m/usr/local/lib/python2.7/site-packages/tensorflow/python/client/session.pyc\u001b[0m in \u001b[0;36m_run\u001b[0;34m(self, handle, fetches, feed_dict, options, run_metadata)\u001b[0m\n\u001b[1;32m   1098\u001b[0m     \u001b[0;32mif\u001b[0m \u001b[0mfinal_fetches\u001b[0m \u001b[0;32mor\u001b[0m \u001b[0mfinal_targets\u001b[0m \u001b[0;32mor\u001b[0m \u001b[0;34m(\u001b[0m\u001b[0mhandle\u001b[0m \u001b[0;32mand\u001b[0m \u001b[0mfeed_dict_tensor\u001b[0m\u001b[0;34m)\u001b[0m\u001b[0;34m:\u001b[0m\u001b[0;34m\u001b[0m\u001b[0m\n\u001b[1;32m   1099\u001b[0m       results = self._do_run(handle, final_targets, final_fetches,\n\u001b[0;32m-> 1100\u001b[0;31m                              feed_dict_tensor, options, run_metadata)\n\u001b[0m\u001b[1;32m   1101\u001b[0m     \u001b[0;32melse\u001b[0m\u001b[0;34m:\u001b[0m\u001b[0;34m\u001b[0m\u001b[0m\n\u001b[1;32m   1102\u001b[0m       \u001b[0mresults\u001b[0m \u001b[0;34m=\u001b[0m \u001b[0;34m[\u001b[0m\u001b[0;34m]\u001b[0m\u001b[0;34m\u001b[0m\u001b[0m\n",
      "\u001b[0;32m/usr/local/lib/python2.7/site-packages/tensorflow/python/client/session.pyc\u001b[0m in \u001b[0;36m_do_run\u001b[0;34m(self, handle, target_list, fetch_list, feed_dict, options, run_metadata)\u001b[0m\n\u001b[1;32m   1270\u001b[0m     \u001b[0;32mif\u001b[0m \u001b[0mhandle\u001b[0m \u001b[0;32mis\u001b[0m \u001b[0mNone\u001b[0m\u001b[0;34m:\u001b[0m\u001b[0;34m\u001b[0m\u001b[0m\n\u001b[1;32m   1271\u001b[0m       return self._do_call(_run_fn, feeds, fetches, targets, options,\n\u001b[0;32m-> 1272\u001b[0;31m                            run_metadata)\n\u001b[0m\u001b[1;32m   1273\u001b[0m     \u001b[0;32melse\u001b[0m\u001b[0;34m:\u001b[0m\u001b[0;34m\u001b[0m\u001b[0m\n\u001b[1;32m   1274\u001b[0m       \u001b[0;32mreturn\u001b[0m \u001b[0mself\u001b[0m\u001b[0;34m.\u001b[0m\u001b[0m_do_call\u001b[0m\u001b[0;34m(\u001b[0m\u001b[0m_prun_fn\u001b[0m\u001b[0;34m,\u001b[0m \u001b[0mhandle\u001b[0m\u001b[0;34m,\u001b[0m \u001b[0mfeeds\u001b[0m\u001b[0;34m,\u001b[0m \u001b[0mfetches\u001b[0m\u001b[0;34m)\u001b[0m\u001b[0;34m\u001b[0m\u001b[0m\n",
      "\u001b[0;32m/usr/local/lib/python2.7/site-packages/tensorflow/python/client/session.pyc\u001b[0m in \u001b[0;36m_do_call\u001b[0;34m(self, fn, *args)\u001b[0m\n\u001b[1;32m   1276\u001b[0m   \u001b[0;32mdef\u001b[0m \u001b[0m_do_call\u001b[0m\u001b[0;34m(\u001b[0m\u001b[0mself\u001b[0m\u001b[0;34m,\u001b[0m \u001b[0mfn\u001b[0m\u001b[0;34m,\u001b[0m \u001b[0;34m*\u001b[0m\u001b[0margs\u001b[0m\u001b[0;34m)\u001b[0m\u001b[0;34m:\u001b[0m\u001b[0;34m\u001b[0m\u001b[0m\n\u001b[1;32m   1277\u001b[0m     \u001b[0;32mtry\u001b[0m\u001b[0;34m:\u001b[0m\u001b[0;34m\u001b[0m\u001b[0m\n\u001b[0;32m-> 1278\u001b[0;31m       \u001b[0;32mreturn\u001b[0m \u001b[0mfn\u001b[0m\u001b[0;34m(\u001b[0m\u001b[0;34m*\u001b[0m\u001b[0margs\u001b[0m\u001b[0;34m)\u001b[0m\u001b[0;34m\u001b[0m\u001b[0m\n\u001b[0m\u001b[1;32m   1279\u001b[0m     \u001b[0;32mexcept\u001b[0m \u001b[0merrors\u001b[0m\u001b[0;34m.\u001b[0m\u001b[0mOpError\u001b[0m \u001b[0;32mas\u001b[0m \u001b[0me\u001b[0m\u001b[0;34m:\u001b[0m\u001b[0;34m\u001b[0m\u001b[0m\n\u001b[1;32m   1280\u001b[0m       \u001b[0mmessage\u001b[0m \u001b[0;34m=\u001b[0m \u001b[0mcompat\u001b[0m\u001b[0;34m.\u001b[0m\u001b[0mas_text\u001b[0m\u001b[0;34m(\u001b[0m\u001b[0me\u001b[0m\u001b[0;34m.\u001b[0m\u001b[0mmessage\u001b[0m\u001b[0;34m)\u001b[0m\u001b[0;34m\u001b[0m\u001b[0m\n",
      "\u001b[0;32m/usr/local/lib/python2.7/site-packages/tensorflow/python/client/session.pyc\u001b[0m in \u001b[0;36m_run_fn\u001b[0;34m(feed_dict, fetch_list, target_list, options, run_metadata)\u001b[0m\n\u001b[1;32m   1261\u001b[0m       \u001b[0mself\u001b[0m\u001b[0;34m.\u001b[0m\u001b[0m_extend_graph\u001b[0m\u001b[0;34m(\u001b[0m\u001b[0;34m)\u001b[0m\u001b[0;34m\u001b[0m\u001b[0m\n\u001b[1;32m   1262\u001b[0m       return self._call_tf_sessionrun(\n\u001b[0;32m-> 1263\u001b[0;31m           options, feed_dict, fetch_list, target_list, run_metadata)\n\u001b[0m\u001b[1;32m   1264\u001b[0m \u001b[0;34m\u001b[0m\u001b[0m\n\u001b[1;32m   1265\u001b[0m     \u001b[0;32mdef\u001b[0m \u001b[0m_prun_fn\u001b[0m\u001b[0;34m(\u001b[0m\u001b[0mhandle\u001b[0m\u001b[0;34m,\u001b[0m \u001b[0mfeed_dict\u001b[0m\u001b[0;34m,\u001b[0m \u001b[0mfetch_list\u001b[0m\u001b[0;34m)\u001b[0m\u001b[0;34m:\u001b[0m\u001b[0;34m\u001b[0m\u001b[0m\n",
      "\u001b[0;32m/usr/local/lib/python2.7/site-packages/tensorflow/python/client/session.pyc\u001b[0m in \u001b[0;36m_call_tf_sessionrun\u001b[0;34m(self, options, feed_dict, fetch_list, target_list, run_metadata)\u001b[0m\n\u001b[1;32m   1348\u001b[0m     return tf_session.TF_SessionRun_wrapper(\n\u001b[1;32m   1349\u001b[0m         \u001b[0mself\u001b[0m\u001b[0;34m.\u001b[0m\u001b[0m_session\u001b[0m\u001b[0;34m,\u001b[0m \u001b[0moptions\u001b[0m\u001b[0;34m,\u001b[0m \u001b[0mfeed_dict\u001b[0m\u001b[0;34m,\u001b[0m \u001b[0mfetch_list\u001b[0m\u001b[0;34m,\u001b[0m \u001b[0mtarget_list\u001b[0m\u001b[0;34m,\u001b[0m\u001b[0;34m\u001b[0m\u001b[0m\n\u001b[0;32m-> 1350\u001b[0;31m         run_metadata)\n\u001b[0m\u001b[1;32m   1351\u001b[0m \u001b[0;34m\u001b[0m\u001b[0m\n\u001b[1;32m   1352\u001b[0m   \u001b[0;32mdef\u001b[0m \u001b[0m_call_tf_sessionprun\u001b[0m\u001b[0;34m(\u001b[0m\u001b[0mself\u001b[0m\u001b[0;34m,\u001b[0m \u001b[0mhandle\u001b[0m\u001b[0;34m,\u001b[0m \u001b[0mfeed_dict\u001b[0m\u001b[0;34m,\u001b[0m \u001b[0mfetch_list\u001b[0m\u001b[0;34m)\u001b[0m\u001b[0;34m:\u001b[0m\u001b[0;34m\u001b[0m\u001b[0m\n",
      "\u001b[0;31mKeyboardInterrupt\u001b[0m: "
     ]
    },
    {
     "data": {
      "image/png": "[encoded data removed]",
      "text/plain": [
       "<Figure size 432x288 with 1 Axes>"
      ]
     },
     "metadata": {},
     "output_type": "display_data"
    }
   ],
   "source": [
    "tf.reset_default_graph()\n",
    "\n",
    "D = Memory(T)\n",
    "ac_network = ACNetwork()\n",
    "\n",
    "env = CartPoleEnv()\n",
    "#env.theta_threshold_radians = 2 * math.pi * 1/4\n",
    "state = env.reset()\n",
    "state = state.tolist()\n",
    "\n",
    "metrics  = {}\n",
    "metrics['loss'] = [0]\n",
    "metrics['label'] = []\n",
    "metrics['round_length'] = []\n",
    "\n",
    "t = 0\n",
    "one_round = []\n",
    "mu = 1.0\n",
    "\n",
    "for rid in range(2000000):\n",
    "    #env.render()\n",
    "    if random() < mu:\n",
    "        action = env.action_space.sample()\n",
    "    else:\n",
    "        action = ac_network.get_action(state)\n",
    "    \n",
    "    next_state, reward, done, _ = env.step(action) # take a random action\n",
    "    next_state = next_state.tolist()\n",
    "    \n",
    "    transaction = Transaction((state, action, reward, next_state, None))\n",
    "    #D.insert(transaction)\n",
    "    one_round.append(transaction)\n",
    "    state = next_state\n",
    "\n",
    "    batch = D.batch(batch_size)\n",
    "    if batch.any() and batch is not None:\n",
    "        #add_label(batch, Q, GAMMA)\n",
    "        _, loss = ac_network.update(batch)\n",
    "        \n",
    "        metrics['loss'].append(loss)\n",
    "    \n",
    "    #print(transaction, batch)    \n",
    "    if done:\n",
    "        reward = 0\n",
    "        for transaction in reversed(one_round):\n",
    "            reward += transaction['reward']\n",
    "            reward *= reward_decay\n",
    "            transaction['reward'] = reward\n",
    "            \n",
    "        add_advantage(one_round, ac_network)\n",
    "        \n",
    "        for transaction in one_round:\n",
    "            D.insert(transaction)\n",
    "            \n",
    "        metrics['round_length'].append(len(one_round))\n",
    "        one_round = []\n",
    "            \n",
    "        state = env.reset()\n",
    "        state = state.tolist()\n",
    "        \n",
    "        mu *= mu_decay\n",
    "\n",
    "    if rid > 0 and rid % update_target_network_time == 0:\n",
    "        ac_network.reload(str(rid))\n",
    "        \n",
    "    if rid > 0 and rid % 1000 == 0:\n",
    "        #plt.plot(metrics['action'][0], metrics['action'][1], 'g', metrics['best_action'][0], metrics['best_action'][1], 'y')        \n",
    "        print(mu, rid, len(metrics['round_length']), len(one_round))\n",
    "        \n",
    "        length = metrics['round_length']\n",
    "        #range_size = max(1, len(length)/100)\n",
    "        #range_size = 100\n",
    "        #length = [np.mean(length[i:i+range_size]) for i in range(0, len(length), range_size)]\n",
    "        plt.gcf().clear()\n",
    "        plt.plot(length, 'g')\n",
    "        display.display(plt.gcf())\n",
    "        display.clear_output(wait=True)\n",
    "\n"
   ]
  },
  {
   "cell_type": "code",
   "execution_count": 3,
   "metadata": {},
   "outputs": [],
   "source": [
    "def plot(series, range_size):\n",
    "    series = [np.mean(series[i:i+range_size]) for i in range(0, len(series), range_size)]\n",
    "    plt.plot(series, 'y')\n",
    "    display.display(plt.gcf())\n",
    "    display.clear_output(wait=True)"
   ]
  },
  {
   "cell_type": "code",
   "execution_count": 4,
   "metadata": {},
   "outputs": [],
   "source": [
    "def show_state(env, img, step=0, info=\"\"):\n",
    "    img.set_data(env.render(mode='rgb_array')) # just update the data\n",
    "    display.display(plt.gcf())\n",
    "    display.clear_output(wait=True)"
   ]
  },
  {
   "cell_type": "code",
   "execution_count": 34,
   "metadata": {},
   "outputs": [
    {
     "data": {
      "text/plain": [
       "0.3564662036919788"
      ]
     },
     "execution_count": 34,
     "metadata": {},
     "output_type": "execute_result"
    }
   ],
   "source": [
    "mu"
   ]
  },
  {
   "cell_type": "code",
   "execution_count": 53,
   "metadata": {},
   "outputs": [
    {
     "data": {
      "text/plain": [
       "[<matplotlib.lines.Line2D at 0x7fc346ae71d0>]"
      ]
     },
     "execution_count": 53,
     "metadata": {},
     "output_type": "execute_result"
    },
    {
     "data": {
      "image/png": "[encoded data removed]",
      "text/plain": [
       "<Figure size 432x288 with 1 Axes>"
      ]
     },
     "metadata": {},
     "output_type": "display_data"
    }
   ],
   "source": [
    "length = metrics['round_length'][200:300]\n",
    "range_size = 1\n",
    "length = [np.mean(length[i:i+range_size]) for i in range(0, len(length), range_size)]\n",
    "plt.plot(length)"
   ]
  },
  {
   "cell_type": "code",
   "execution_count": 56,
   "metadata": {
    "scrolled": true
   },
   "outputs": [
    {
     "data": {
      "text/plain": [
       "[array([1975529.2, 1910659.8], dtype=float32),\n",
       " array([1964313.8, 1975825. ], dtype=float32),\n",
       " array([1988715.9, 1965539.8], dtype=float32),\n",
       " array([1983933.5, 1962782.8], dtype=float32),\n",
       " array([1979743.9, 1854555.5], dtype=float32),\n",
       " array([1976056.2, 1977378. ], dtype=float32),\n",
       " array([1980868.6, 1853415.5], dtype=float32),\n",
       " array([1972957.1, 1939484. ], dtype=float32),\n",
       " array([1988222.8, 1966350.9], dtype=float32),\n",
       " array([1984209.5, 1984600.9], dtype=float32),\n",
       " array([1980725.5, 1858997.2], dtype=float32),\n",
       " array([1985271.9, 1964155.9], dtype=float32),\n",
       " array([1986444. , 1974376.2], dtype=float32),\n",
       " array([1990744.4, 1961530.4], dtype=float32),\n",
       " array([1981108. , 1963468.6], dtype=float32),\n",
       " array([1949322.6, 1972167. ], dtype=float32),\n",
       " array([1991731.5, 1970472.8], dtype=float32),\n",
       " array([1991866.5, 1959029.9], dtype=float32),\n",
       " array([1983595.5, 1963789.5], dtype=float32),\n",
       " array([1988132.6, 1968003.5], dtype=float32),\n",
       " array([1975919.9, 1963347. ], dtype=float32),\n",
       " array([1979624.9, 1914037.1], dtype=float32),\n",
       " array([1983640.2, 1821407.9], dtype=float32),\n",
       " array([1982461.5, 1784570.2], dtype=float32),\n",
       " array([1983995.9, 1787031.5], dtype=float32),\n",
       " array([1961827.5, 1974486.8], dtype=float32),\n",
       " array([1967492.1, 1944821.5], dtype=float32),\n",
       " array([1990156.8, 1964592.4], dtype=float32),\n",
       " array([2120557.5, 2092438. ], dtype=float32),\n",
       " array([1975058.1, 1889181.8], dtype=float32),\n",
       " array([1980443. , 1980343.2], dtype=float32),\n",
       " array([1981271.5, 1987825.6], dtype=float32),\n",
       " array([1993869.1, 1962582.6], dtype=float32),\n",
       " array([1957334. , 1966903.1], dtype=float32),\n",
       " array([1989664.4, 1970847.6], dtype=float32),\n",
       " -1,\n",
       " array([2155144. , 2106262.2], dtype=float32),\n",
       " array([1959335.4, 1976035.1], dtype=float32),\n",
       " array([1991117.6, 1965508.8], dtype=float32),\n",
       " array([1981355.1, 1830967.2], dtype=float32),\n",
       " array([1971766.4, 1925524.2], dtype=float32),\n",
       " array([1973796.8, 1979127.5], dtype=float32),\n",
       " array([1981070.9, 1848216.4], dtype=float32),\n",
       " array([1971312.4, 1981150.8], dtype=float32),\n",
       " array([1985770.6, 1790344.5], dtype=float32),\n",
       " array([1990489.6, 1960782.4], dtype=float32),\n",
       " array([2018737.2, 2004355. ], dtype=float32),\n",
       " array([2008148.1, 2062821.9], dtype=float32),\n",
       " array([1974434.5, 1941156.5], dtype=float32),\n",
       " array([1965195.2, 1978331.9], dtype=float32),\n",
       " array([1990986.5, 1955240.8], dtype=float32),\n",
       " array([1981963.6, 1985014.4], dtype=float32),\n",
       " array([1975192.4, 1908404.9], dtype=float32),\n",
       " array([1981498. , 1830239.1], dtype=float32),\n",
       " array([2106652.8, 2128454. ], dtype=float32),\n",
       " array([1971772.9, 1911253.8], dtype=float32),\n",
       " array([2220313., 2122619.], dtype=float32),\n",
       " array([2039910.5, 1986977. ], dtype=float32),\n",
       " array([1959881.5, 1977250.1], dtype=float32),\n",
       " array([1976014.8, 1977142.6], dtype=float32),\n",
       " array([1950131.6, 1973074.1], dtype=float32),\n",
       " array([1975260., 1904381.], dtype=float32),\n",
       " array([1993944.1, 1958916. ], dtype=float32),\n",
       " array([1980385.6, 1806881.2], dtype=float32),\n",
       " array([1980330.5, 1977661.8], dtype=float32),\n",
       " array([1965042.6, 1975319.8], dtype=float32),\n",
       " array([1978120.9, 1884906. ], dtype=float32),\n",
       " array([1992056.8, 1970904. ], dtype=float32),\n",
       " array([1951302.8, 1978876.2], dtype=float32),\n",
       " array([1979771.1, 1842656.9], dtype=float32),\n",
       " array([1949676.6, 1978397.9], dtype=float32),\n",
       " array([1980416.4, 1973609.2], dtype=float32),\n",
       " array([1980551.9, 1988758.2], dtype=float32),\n",
       " array([1972227.1, 1979280.1], dtype=float32),\n",
       " array([1992358.8, 1957526.1], dtype=float32),\n",
       " array([1776790.6, 2324253.5], dtype=float32),\n",
       " array([1978153.1, 1869190.1], dtype=float32),\n",
       " array([2026006.8, 2064966.9], dtype=float32),\n",
       " array([1979155.4, 1922131.2], dtype=float32),\n",
       " array([1989971. , 1959950.6], dtype=float32),\n",
       " array([1980196.6, 1983565.2], dtype=float32),\n",
       " array([1974847.2, 1976642.4], dtype=float32),\n",
       " array([1991920.8, 1968967.9], dtype=float32),\n",
       " array([1989666.2, 1963915.5], dtype=float32),\n",
       " array([1979779.4, 1902056.8], dtype=float32),\n",
       " array([1979718.9, 1942244. ], dtype=float32),\n",
       " array([1981349.4, 1992308.4], dtype=float32),\n",
       " array([1974812.6, 1977876.5], dtype=float32),\n",
       " array([1987781.2, 1961888.4], dtype=float32),\n",
       " array([1971713.2, 1953284.1], dtype=float32),\n",
       " array([1979183. , 1945522.8], dtype=float32),\n",
       " array([1981515.6, 1981664. ], dtype=float32),\n",
       " array([1978548.1, 1968665.1], dtype=float32),\n",
       " array([1977059. , 1976299.9], dtype=float32),\n",
       " array([1967725.9, 1972204. ], dtype=float32),\n",
       " array([1954242.2, 2069931.4], dtype=float32),\n",
       " array([1978010.5, 1858945. ], dtype=float32),\n",
       " array([2026129.2, 2057553.8], dtype=float32),\n",
       " array([1991795.1, 1964983.4], dtype=float32),\n",
       " -1]"
      ]
     },
     "execution_count": 56,
     "metadata": {},
     "output_type": "execute_result"
    }
   ],
   "source": [
    "get_labels(D.batch(100))"
   ]
  },
  {
   "cell_type": "code",
   "execution_count": null,
   "metadata": {},
   "outputs": [],
   "source": []
  }
 ],
 "metadata": {
  "kernelspec": {
   "display_name": "Python 2",
   "language": "python",
   "name": "python2"
  },
  "language_info": {
   "codemirror_mode": {
    "name": "ipython",
    "version": 2
   },
   "file_extension": ".py",
   "mimetype": "text/x-python",
   "name": "python",
   "nbconvert_exporter": "python",
   "pygments_lexer": "ipython2",
   "version": "2.7.13"
  }
 },
 "nbformat": 4,
 "nbformat_minor": 2
}
