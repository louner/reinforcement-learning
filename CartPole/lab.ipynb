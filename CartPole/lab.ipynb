{
 "cells": [
  {
   "cell_type": "code",
   "execution_count": 1,
   "metadata": {
    "collapsed": true,
    "deletable": true,
    "editable": true
   },
   "outputs": [],
   "source": [
    "import math\n",
    "from random import randint, choice\n",
    "from gym.envs.classic_control import CartPoleEnv\n",
    "import tensorflow as tf\n",
    "import pandas as pd\n",
    "import numpy as np\n",
    "import heapq\n",
    "from random import random, sample\n",
    "from IPython import display\n",
    "import matplotlib.pyplot as plt\n",
    "%matplotlib inline"
   ]
  },
  {
   "cell_type": "code",
   "execution_count": 12,
   "metadata": {
    "collapsed": true,
    "deletable": true,
    "editable": true
   },
   "outputs": [],
   "source": [
    "batch_size = 256\n",
    "T = batch_size*100\n",
    "GAMMA = 0.99\n",
    "reward_decay = 1.0\n",
    "mu_decay = 0.999\n",
    "learning_rate = 0.001\n",
    "update_target_network_time = 1000"
   ]
  },
  {
   "cell_type": "code",
   "execution_count": 3,
   "metadata": {
    "collapsed": true,
    "deletable": true,
    "editable": true
   },
   "outputs": [],
   "source": [
    "class Transaction:\n",
    "    columns = ['state', 'action', 'reward', 'next_state', 'done', 'label']\n",
    "    actions = [[0, 1], [1, 0]]\n",
    "    def __init__(self, item):\n",
    "        self.item = dict(zip(Transaction.columns, item))\n",
    "        \n",
    "    def  __lt__(self, other):\n",
    "        #sort by time\n",
    "        return self.item['id'] < other.item['id']\n",
    "        #sort by gained label\n",
    "        #return self.item['label'] < other.item['label']\n",
    "    \n",
    "    def __repr__(self):\n",
    "        return str(self.item)\n",
    "    \n",
    "    def get_next_state_and_(self):\n",
    "        return self.item['state'] + Transaction.actions[self.item['action']]\n",
    "    \n",
    "    def __getitem__(self, key):\n",
    "        return self.item[key]\n",
    "    \n",
    "    def __setitem__(self, key, value):\n",
    "        self.item[key] = value\n",
    "\n",
    "class Memory:\n",
    "    def __init__(self, max_size):\n",
    "        MAX_TRANSACTION = Transaction(Transaction.columns)\n",
    "        MAX_TRANSACTION.item['id'] = -1\n",
    "        self.d = []\n",
    "        self.id = 0\n",
    "        self.max_size = max_size\n",
    "        \n",
    "    def insert(self, item):\n",
    "        self.id += 1\n",
    "        item['id'] = self.id\n",
    "        #print(self.d)\n",
    "\n",
    "        if len(self.d) == self.max_size:\n",
    "            heapq.heapreplace(self.d, item)\n",
    "        else:\n",
    "            heapq.heappush(self.d, item)\n",
    "\n",
    "    def batch(self, n):\n",
    "        if len(self.d) > n:\n",
    "            batch = np.array(sample(self.d, n))\n",
    "            return batch\n",
    "        else:\n",
    "            return np.array(self.d)\n",
    "\n",
    "def get_labels(batch):\n",
    "    return np.array([transaction['label'] for transaction in batch])\n",
    "\n",
    "def test():\n",
    "    D = Memory(2)\n",
    "    item1 = Transaction([np.array([0,1,2,3]), 1,0,np.array([3,2,1,0]),0,10])\n",
    "    item2 = Transaction([np.array([0,1,2,3]), 1,0,np.array([3,2,1,0]),0,10])\n",
    "    item3 = Transaction([np.array([0,1,2,3]), 1,0,np.array([3,2,1,0]),0,10])\n",
    "\n",
    "    D.insert(item1)\n",
    "    D.insert(item2)\n",
    "    D.insert(item3)\n",
    "\n",
    "    print(D.d, D.batch(2), D.d)\n",
    "    item = Transaction([np.array([-1,1,2,3]), 1,0,np.array([3,2,1,0]),0,10])\n",
    "    D.insert(item)\n",
    "    print(D.d, D.batch(1))"
   ]
  },
  {
   "cell_type": "code",
   "execution_count": 4,
   "metadata": {
    "collapsed": true,
    "deletable": true,
    "editable": true
   },
   "outputs": [],
   "source": [
    "class QNetwork:\n",
    "    def __init__(self):\n",
    "        self.state_size = 4\n",
    "        self.action_size = 2\n",
    "        self.units = 32*2\n",
    "        self.n_layers = 4\n",
    "        self.model_folder = './model/'\n",
    "        \n",
    "        self.input = tf.placeholder(shape=(None, self.state_size), dtype=tf.float32)\n",
    "        self.label = tf.placeholder(shape=(None, self.action_size), dtype=tf.float32)\n",
    "        self.global_step = tf.Variable(0, dtype=tf.int32)\n",
    "        \n",
    "        self.build_network()\n",
    "        self.sess = sess = tf.Session(config=tf.ConfigProto(device_count={'GPU': 1}))\n",
    "        self.target_Q_sess = sess = tf.Session(config=tf.ConfigProto(device_count={'GPU': 1}))\n",
    "        \n",
    "        self.sess.run(tf.global_variables_initializer())\n",
    "        self.target_Q_sess.run(tf.global_variables_initializer())\n",
    "        \n",
    "        self.saver = tf.train.Saver()\n",
    "\n",
    "    def build_network(self):\n",
    "        layers = [0]*self.n_layers\n",
    "        layers[0] = tf.layers.dense(inputs=self.input, units=self.units, activation=tf.nn.tanh, name='layer_0')\n",
    "        for i in range(self.n_layers-1):\n",
    "            layers[i+1] = tf.layers.dense(inputs=layers[i], units=self.units, activation=tf.nn.tanh, name='layer_%d'%(i+1))\n",
    "        \n",
    "        self.qvalue = tf.layers.dense(inputs=layers[-1], units=self.action_size)\n",
    "        self.best_qvalue = tf.reduce_max(self.qvalue, axis=1)\n",
    "\n",
    "        self.loss = tf.losses.mean_squared_error(labels=self.label, predictions=self.qvalue)\n",
    "        optimizer = tf.train.AdamOptimizer(learning_rate)\n",
    "        self.train_step = self.do_clipping(self.loss, optimizer)\n",
    "        #self.train_step = tf.train.AdamOptimizer(learning_rate).minimize(self.loss)\n",
    "        self.best_action = tf.argmax(self.qvalue, axis=1)\n",
    "        \n",
    "    def do_clipping(self, loss, optimizer):\n",
    "        grad_vars = optimizer.compute_gradients(loss)\n",
    "        self.grad_vars = [\n",
    "          (tf.clip_by_norm(grad, clip_norm=10), var)\n",
    "          for grad, var in grad_vars if grad is not None\n",
    "        ]\n",
    "        self.grad_dict = dict([\n",
    "          [var.name, grad]\n",
    "          for grad, var in self.grad_vars\n",
    "        ])\n",
    "\n",
    "        train_step = optimizer.apply_gradients(self.grad_vars, global_step=self.global_step)\n",
    "        return train_step\n",
    "\n",
    "    def get_Q_value(self, states, sess='target'):\n",
    "        sess = self.decide_sess(sess)\n",
    "        return sess.run(self.qvalue, feed_dict={self.input: states})\n",
    "    \n",
    "    def get_best_Q_value(self, states, sess='target'):\n",
    "        sess = self.decide_sess(sess)\n",
    "        return sess.run(self.best_qvalue, feed_dict={self.input: states})\n",
    "    \n",
    "    def get_best_action(self, state, sess='target'):\n",
    "        sess = self.decide_sess(sess)\n",
    "        return sess.run(self.best_action, feed_dict={self.input: [state]})[0]\n",
    "            \n",
    "    def update(self, batch):\n",
    "        states = get_states(batch)\n",
    "        labels = get_labels(batch)\n",
    "        \n",
    "        return self.sess.run([self.train_step, self.loss], feed_dict={self.input: states, self.label: labels})\n",
    "    \n",
    "    def reload_target_Q_network(self):\n",
    "        self.saver.restore(self.target_Q_sess, tf.train.latest_checkpoint(self.model_folder))\n",
    "        \n",
    "    def save(self, name):\n",
    "        self.saver.save(self.sess, '%s/%s'%(self.model_folder, name), global_step=self.global_step)\n",
    "        \n",
    "    def decide_sess(self, sess):\n",
    "        if sess == 'target':\n",
    "            sess = self.target_Q_sess\n",
    "        elif sess == 'online':\n",
    "            sess = self.sess\n",
    "        else:\n",
    "            raise Exception('unknown sess %s'%(sess))\n",
    "        return sess\n",
    "        "
   ]
  },
  {
   "cell_type": "code",
   "execution_count": 5,
   "metadata": {
    "collapsed": true,
    "deletable": true,
    "editable": true
   },
   "outputs": [],
   "source": [
    "def transform_to_Q_input(states, actions):\n",
    "    action_onehots = [Transaction.actions[action] for action in actions]\n",
    "    Q_inputs = np.array([state + action_onehot for state, action_onehot in zip(states, action_onehots)])\n",
    "    return Q_inputs\n",
    "\n",
    "def get_next_states(batch):\n",
    "    next_states = [transaction['next_state'] for transaction in batch]\n",
    "    return next_states\n",
    "\n",
    "def get_states(batch):\n",
    "    states = [transaction['state'] for transaction in batch]\n",
    "    return states\n",
    "\n",
    "def get_labels(batch):\n",
    "    labels = [transaction['label'] for transaction in batch]\n",
    "    return labels\n",
    "\n",
    "def get_actions(batch):\n",
    "    actions = [transaction['action'] for transaction in batch]\n",
    "    return actions\n",
    "\n",
    "def add_label(one_round, Q, gamma):\n",
    "    states = get_states(one_round)\n",
    "    states_qvalues = Q.get_Q_value(states, 'target') #batch_size,action_size\n",
    "    \n",
    "    next_states = get_next_states(one_round)\n",
    "    next_states_best_qvalues = Q.get_best_Q_value(next_states) #batch_size,1\n",
    "    \n",
    "    for transaction, state_qvalue, next_state_best_qvalue in zip(one_round, states_qvalues, next_states_best_qvalues):\n",
    "        if transaction['done']:\n",
    "            reward = transaction['reward']\n",
    "        else:\n",
    "            reward = transaction['reward'] + GAMMA*next_state_best_qvalue\n",
    "            \n",
    "        label = state_qvalue\n",
    "        label[transaction['action']] = reward\n",
    "        \n",
    "        transaction['label'] = label"
   ]
  },
  {
   "cell_type": "code",
   "execution_count": 6,
   "metadata": {
    "collapsed": true,
    "deletable": true,
    "editable": true
   },
   "outputs": [],
   "source": [
    "def plot(series, range_size):\n",
    "    series = [np.mean(series[i:i+range_size]) for i in range(0, len(series), range_size)]\n",
    "    plt.plot(series, 'y')\n",
    "    display.display(plt.gcf())\n",
    "    display.clear_output(wait=True)"
   ]
  },
  {
   "cell_type": "code",
   "execution_count": 13,
   "metadata": {
    "collapsed": false,
    "deletable": true,
    "editable": true,
    "scrolled": true
   },
   "outputs": [
    {
     "ename": "KeyboardInterrupt",
     "evalue": "",
     "output_type": "error",
     "traceback": [
      "\u001b[0;31m---------------------------------------------------------------------------\u001b[0m",
      "\u001b[0;31mKeyboardInterrupt\u001b[0m                         Traceback (most recent call last)",
      "\u001b[0;32m<ipython-input-13-5c65f9071186>\u001b[0m in \u001b[0;36m<module>\u001b[0;34m()\u001b[0m\n\u001b[1;32m     23\u001b[0m         \u001b[0maction\u001b[0m \u001b[0;34m=\u001b[0m \u001b[0menv\u001b[0m\u001b[0;34m.\u001b[0m\u001b[0maction_space\u001b[0m\u001b[0;34m.\u001b[0m\u001b[0msample\u001b[0m\u001b[0;34m(\u001b[0m\u001b[0;34m)\u001b[0m\u001b[0;34m\u001b[0m\u001b[0m\n\u001b[1;32m     24\u001b[0m     \u001b[0;32melse\u001b[0m\u001b[0;34m:\u001b[0m\u001b[0;34m\u001b[0m\u001b[0m\n\u001b[0;32m---> 25\u001b[0;31m         \u001b[0maction\u001b[0m \u001b[0;34m=\u001b[0m \u001b[0mQ\u001b[0m\u001b[0;34m.\u001b[0m\u001b[0mget_best_action\u001b[0m\u001b[0;34m(\u001b[0m\u001b[0mstate\u001b[0m\u001b[0;34m,\u001b[0m \u001b[0;34m'online'\u001b[0m\u001b[0;34m)\u001b[0m\u001b[0;34m\u001b[0m\u001b[0m\n\u001b[0m\u001b[1;32m     26\u001b[0m \u001b[0;34m\u001b[0m\u001b[0m\n\u001b[1;32m     27\u001b[0m     \u001b[0mnext_state\u001b[0m\u001b[0;34m,\u001b[0m \u001b[0mreward\u001b[0m\u001b[0;34m,\u001b[0m \u001b[0mdone\u001b[0m\u001b[0;34m,\u001b[0m \u001b[0m_\u001b[0m \u001b[0;34m=\u001b[0m \u001b[0menv\u001b[0m\u001b[0;34m.\u001b[0m\u001b[0mstep\u001b[0m\u001b[0;34m(\u001b[0m\u001b[0maction\u001b[0m\u001b[0;34m)\u001b[0m \u001b[0;31m# take a random action\u001b[0m\u001b[0;34m\u001b[0m\u001b[0m\n",
      "\u001b[0;32m<ipython-input-4-f58a081580cb>\u001b[0m in \u001b[0;36mget_best_action\u001b[0;34m(self, state, sess)\u001b[0m\n\u001b[1;32m     59\u001b[0m     \u001b[0;32mdef\u001b[0m \u001b[0mget_best_action\u001b[0m\u001b[0;34m(\u001b[0m\u001b[0mself\u001b[0m\u001b[0;34m,\u001b[0m \u001b[0mstate\u001b[0m\u001b[0;34m,\u001b[0m \u001b[0msess\u001b[0m\u001b[0;34m=\u001b[0m\u001b[0;34m'target'\u001b[0m\u001b[0;34m)\u001b[0m\u001b[0;34m:\u001b[0m\u001b[0;34m\u001b[0m\u001b[0m\n\u001b[1;32m     60\u001b[0m         \u001b[0msess\u001b[0m \u001b[0;34m=\u001b[0m \u001b[0mself\u001b[0m\u001b[0;34m.\u001b[0m\u001b[0mdecide_sess\u001b[0m\u001b[0;34m(\u001b[0m\u001b[0msess\u001b[0m\u001b[0;34m)\u001b[0m\u001b[0;34m\u001b[0m\u001b[0m\n\u001b[0;32m---> 61\u001b[0;31m         \u001b[0;32mreturn\u001b[0m \u001b[0msess\u001b[0m\u001b[0;34m.\u001b[0m\u001b[0mrun\u001b[0m\u001b[0;34m(\u001b[0m\u001b[0mself\u001b[0m\u001b[0;34m.\u001b[0m\u001b[0mbest_action\u001b[0m\u001b[0;34m,\u001b[0m \u001b[0mfeed_dict\u001b[0m\u001b[0;34m=\u001b[0m\u001b[0;34m{\u001b[0m\u001b[0mself\u001b[0m\u001b[0;34m.\u001b[0m\u001b[0minput\u001b[0m\u001b[0;34m:\u001b[0m \u001b[0;34m[\u001b[0m\u001b[0mstate\u001b[0m\u001b[0;34m]\u001b[0m\u001b[0;34m}\u001b[0m\u001b[0;34m)\u001b[0m\u001b[0;34m[\u001b[0m\u001b[0;36m0\u001b[0m\u001b[0;34m]\u001b[0m\u001b[0;34m\u001b[0m\u001b[0m\n\u001b[0m\u001b[1;32m     62\u001b[0m \u001b[0;34m\u001b[0m\u001b[0m\n\u001b[1;32m     63\u001b[0m     \u001b[0;32mdef\u001b[0m \u001b[0mupdate\u001b[0m\u001b[0;34m(\u001b[0m\u001b[0mself\u001b[0m\u001b[0;34m,\u001b[0m \u001b[0mbatch\u001b[0m\u001b[0;34m)\u001b[0m\u001b[0;34m:\u001b[0m\u001b[0;34m\u001b[0m\u001b[0m\n",
      "\u001b[0;31mKeyboardInterrupt\u001b[0m: "
     ]
    },
    {
     "data": {
      "image/png": "[encoded data removed]",
      "text/plain": [
       "<matplotlib.figure.Figure at 0x7f753809e320>"
      ]
     },
     "metadata": {},
     "output_type": "display_data"
    }
   ],
   "source": [
    "tf.reset_default_graph()\n",
    "\n",
    "D = Memory(T)\n",
    "Q = QNetwork()\n",
    "\n",
    "env = CartPoleEnv()\n",
    "#env.theta_threshold_radians = 2 * math.pi * 1/4\n",
    "state = env.reset()\n",
    "state = state.tolist()\n",
    "\n",
    "metrics  = {}\n",
    "metrics['loss'] = [0]\n",
    "metrics['label'] = []\n",
    "metrics['round_length'] = []\n",
    "\n",
    "t = 0\n",
    "one_round = []\n",
    "mu = 1.0\n",
    "\n",
    "for rid in range(2000000):\n",
    "    #env.render()\n",
    "    if random() < mu:\n",
    "        action = env.action_space.sample()\n",
    "    else:\n",
    "        action = Q.get_best_action(state, 'online')\n",
    "    \n",
    "    next_state, reward, done, _ = env.step(action) # take a random action\n",
    "    next_state = next_state.tolist()\n",
    "    \n",
    "    transaction = Transaction((state, action, reward, next_state, done, -1))\n",
    "    #D.insert(transaction)\n",
    "    one_round.append(transaction)\n",
    "    state = next_state\n",
    "\n",
    "    batch = D.batch(batch_size)\n",
    "    if batch.any():\n",
    "        #add_label(batch, Q, GAMMA)\n",
    "        _, loss = Q.update(batch)\n",
    "        \n",
    "        metrics['loss'].append(loss)\n",
    "    \n",
    "    #print(transaction, batch)    \n",
    "    if done:\n",
    "        reward = 0\n",
    "        for transaction in reversed(one_round):\n",
    "            reward += transaction['reward']\n",
    "            reward *= reward_decay\n",
    "            transaction['reward'] = reward\n",
    "            \n",
    "        add_label(one_round, Q, GAMMA)\n",
    "            \n",
    "        for transaction in one_round:\n",
    "            D.insert(transaction)\n",
    "            \n",
    "        metrics['round_length'].append(len(one_round))\n",
    "        one_round = []\n",
    "            \n",
    "        state = env.reset()\n",
    "        state = state.tolist()\n",
    "        \n",
    "        mu *= mu_decay\n",
    "\n",
    "\n",
    "    if rid > 0 and rid % update_target_network_time == 0:\n",
    "        Q.save('round-%d'%(len(metrics['round_length'])))\n",
    "        Q.reload_target_Q_network()\n",
    "        \n",
    "    if rid > 0 and rid % 1000 == 0:\n",
    "        #plt.plot(metrics['action'][0], metrics['action'][1], 'g', metrics['best_action'][0], metrics['best_action'][1], 'y')        \n",
    "        print(mu, rid, len(metrics['round_length']), len(one_round))\n",
    "        \n",
    "        length = metrics['round_length']\n",
    "        #range_size = max(1, len(length)/100)\n",
    "        #range_size = 100\n",
    "        #length = [np.mean(length[i:i+range_size]) for i in range(0, len(length), range_size)]\n",
    "        plt.gcf().clear()\n",
    "        plt.plot(length, 'g')\n",
    "        display.display(plt.gcf())\n",
    "        display.clear_output(wait=True)\n",
    "\n"
   ]
  },
  {
   "cell_type": "code",
   "execution_count": null,
   "metadata": {
    "collapsed": false,
    "deletable": true,
    "editable": true,
    "scrolled": true
   },
   "outputs": [
    {
     "name": "stdout",
     "output_type": "stream",
     "text": [
      "\u001b[33mWARN: gym.spaces.Box autodetected dtype as <class 'numpy.float32'>. Please provide explicit dtype.\u001b[0m\n"
     ]
    }
   ],
   "source": [
    "env = CartPoleEnv()\n",
    "state = env.reset()\n",
    "env.theta_threshold_radians = 2 * math.pi * 1/4\n",
    "state = state.tolist()\n",
    "\n",
    "round_length = 0\n",
    "for _ in range(100000):\n",
    "    env.render()\n",
    "    action = Q.get_best_action(state)\n",
    "    #action = env.action_space.sample()\n",
    "    \n",
    "    next_state, reward, done, _ = env.step(action) # take a random action\n",
    "    state = next_state.tolist()\n",
    "    #print(next_state, reward, action, round_length)\n",
    "    round_length += 1\n",
    "    \n",
    "    if round_length % 10000 == 0:\n",
    "        print(round_length)\n",
    "    \n",
    "    if done:\n",
    "        round_length\n",
    "        print(round_length)\n",
    "        state = env.reset()\n",
    "        state = state.tolist()"
   ]
  },
  {
   "cell_type": "code",
   "execution_count": 14,
   "metadata": {
    "collapsed": false,
    "deletable": true,
    "editable": true
   },
   "outputs": [
    {
     "data": {
      "text/plain": [
       "15502"
      ]
     },
     "execution_count": 14,
     "metadata": {},
     "output_type": "execute_result"
    }
   ],
   "source": [
    "round_length"
   ]
  },
  {
   "cell_type": "code",
   "execution_count": 75,
   "metadata": {
    "collapsed": false,
    "deletable": true,
    "editable": true
   },
   "outputs": [
    {
     "data": {
      "image/png": "[encoded data removed]",
      "text/plain": [
       "<Figure size 432x288 with 1 Axes>"
      ]
     },
     "metadata": {},
     "output_type": "display_data"
    }
   ],
   "source": [
    "plot(metrics['loss'], 10)"
   ]
  },
  {
   "cell_type": "code",
   "execution_count": 53,
   "metadata": {
    "collapsed": false,
    "deletable": true,
    "editable": true
   },
   "outputs": [
    {
     "data": {
      "text/plain": [
       "[<matplotlib.lines.Line2D at 0x7fc346ae71d0>]"
      ]
     },
     "execution_count": 53,
     "metadata": {},
     "output_type": "execute_result"
    },
    {
     "data": {
      "image/png": "[encoded data removed]",
      "text/plain": [
       "<Figure size 432x288 with 1 Axes>"
      ]
     },
     "metadata": {},
     "output_type": "display_data"
    }
   ],
   "source": [
    "length = metrics['round_length'][200:300]\n",
    "range_size = 1\n",
    "length = [np.mean(length[i:i+range_size]) for i in range(0, len(length), range_size)]\n",
    "plt.plot(length)"
   ]
  },
  {
   "cell_type": "code",
   "execution_count": 56,
   "metadata": {
    "collapsed": false,
    "deletable": true,
    "editable": true,
    "scrolled": true
   },
   "outputs": [
    {
     "data": {
      "text/plain": [
       "[array([1975529.2, 1910659.8], dtype=float32),\n",
       " array([1964313.8, 1975825. ], dtype=float32),\n",
       " array([1988715.9, 1965539.8], dtype=float32),\n",
       " array([1983933.5, 1962782.8], dtype=float32),\n",
       " array([1979743.9, 1854555.5], dtype=float32),\n",
       " array([1976056.2, 1977378. ], dtype=float32),\n",
       " array([1980868.6, 1853415.5], dtype=float32),\n",
       " array([1972957.1, 1939484. ], dtype=float32),\n",
       " array([1988222.8, 1966350.9], dtype=float32),\n",
       " array([1984209.5, 1984600.9], dtype=float32),\n",
       " array([1980725.5, 1858997.2], dtype=float32),\n",
       " array([1985271.9, 1964155.9], dtype=float32),\n",
       " array([1986444. , 1974376.2], dtype=float32),\n",
       " array([1990744.4, 1961530.4], dtype=float32),\n",
       " array([1981108. , 1963468.6], dtype=float32),\n",
       " array([1949322.6, 1972167. ], dtype=float32),\n",
       " array([1991731.5, 1970472.8], dtype=float32),\n",
       " array([1991866.5, 1959029.9], dtype=float32),\n",
       " array([1983595.5, 1963789.5], dtype=float32),\n",
       " array([1988132.6, 1968003.5], dtype=float32),\n",
       " array([1975919.9, 1963347. ], dtype=float32),\n",
       " array([1979624.9, 1914037.1], dtype=float32),\n",
       " array([1983640.2, 1821407.9], dtype=float32),\n",
       " array([1982461.5, 1784570.2], dtype=float32),\n",
       " array([1983995.9, 1787031.5], dtype=float32),\n",
       " array([1961827.5, 1974486.8], dtype=float32),\n",
       " array([1967492.1, 1944821.5], dtype=float32),\n",
       " array([1990156.8, 1964592.4], dtype=float32),\n",
       " array([2120557.5, 2092438. ], dtype=float32),\n",
       " array([1975058.1, 1889181.8], dtype=float32),\n",
       " array([1980443. , 1980343.2], dtype=float32),\n",
       " array([1981271.5, 1987825.6], dtype=float32),\n",
       " array([1993869.1, 1962582.6], dtype=float32),\n",
       " array([1957334. , 1966903.1], dtype=float32),\n",
       " array([1989664.4, 1970847.6], dtype=float32),\n",
       " -1,\n",
       " array([2155144. , 2106262.2], dtype=float32),\n",
       " array([1959335.4, 1976035.1], dtype=float32),\n",
       " array([1991117.6, 1965508.8], dtype=float32),\n",
       " array([1981355.1, 1830967.2], dtype=float32),\n",
       " array([1971766.4, 1925524.2], dtype=float32),\n",
       " array([1973796.8, 1979127.5], dtype=float32),\n",
       " array([1981070.9, 1848216.4], dtype=float32),\n",
       " array([1971312.4, 1981150.8], dtype=float32),\n",
       " array([1985770.6, 1790344.5], dtype=float32),\n",
       " array([1990489.6, 1960782.4], dtype=float32),\n",
       " array([2018737.2, 2004355. ], dtype=float32),\n",
       " array([2008148.1, 2062821.9], dtype=float32),\n",
       " array([1974434.5, 1941156.5], dtype=float32),\n",
       " array([1965195.2, 1978331.9], dtype=float32),\n",
       " array([1990986.5, 1955240.8], dtype=float32),\n",
       " array([1981963.6, 1985014.4], dtype=float32),\n",
       " array([1975192.4, 1908404.9], dtype=float32),\n",
       " array([1981498. , 1830239.1], dtype=float32),\n",
       " array([2106652.8, 2128454. ], dtype=float32),\n",
       " array([1971772.9, 1911253.8], dtype=float32),\n",
       " array([2220313., 2122619.], dtype=float32),\n",
       " array([2039910.5, 1986977. ], dtype=float32),\n",
       " array([1959881.5, 1977250.1], dtype=float32),\n",
       " array([1976014.8, 1977142.6], dtype=float32),\n",
       " array([1950131.6, 1973074.1], dtype=float32),\n",
       " array([1975260., 1904381.], dtype=float32),\n",
       " array([1993944.1, 1958916. ], dtype=float32),\n",
       " array([1980385.6, 1806881.2], dtype=float32),\n",
       " array([1980330.5, 1977661.8], dtype=float32),\n",
       " array([1965042.6, 1975319.8], dtype=float32),\n",
       " array([1978120.9, 1884906. ], dtype=float32),\n",
       " array([1992056.8, 1970904. ], dtype=float32),\n",
       " array([1951302.8, 1978876.2], dtype=float32),\n",
       " array([1979771.1, 1842656.9], dtype=float32),\n",
       " array([1949676.6, 1978397.9], dtype=float32),\n",
       " array([1980416.4, 1973609.2], dtype=float32),\n",
       " array([1980551.9, 1988758.2], dtype=float32),\n",
       " array([1972227.1, 1979280.1], dtype=float32),\n",
       " array([1992358.8, 1957526.1], dtype=float32),\n",
       " array([1776790.6, 2324253.5], dtype=float32),\n",
       " array([1978153.1, 1869190.1], dtype=float32),\n",
       " array([2026006.8, 2064966.9], dtype=float32),\n",
       " array([1979155.4, 1922131.2], dtype=float32),\n",
       " array([1989971. , 1959950.6], dtype=float32),\n",
       " array([1980196.6, 1983565.2], dtype=float32),\n",
       " array([1974847.2, 1976642.4], dtype=float32),\n",
       " array([1991920.8, 1968967.9], dtype=float32),\n",
       " array([1989666.2, 1963915.5], dtype=float32),\n",
       " array([1979779.4, 1902056.8], dtype=float32),\n",
       " array([1979718.9, 1942244. ], dtype=float32),\n",
       " array([1981349.4, 1992308.4], dtype=float32),\n",
       " array([1974812.6, 1977876.5], dtype=float32),\n",
       " array([1987781.2, 1961888.4], dtype=float32),\n",
       " array([1971713.2, 1953284.1], dtype=float32),\n",
       " array([1979183. , 1945522.8], dtype=float32),\n",
       " array([1981515.6, 1981664. ], dtype=float32),\n",
       " array([1978548.1, 1968665.1], dtype=float32),\n",
       " array([1977059. , 1976299.9], dtype=float32),\n",
       " array([1967725.9, 1972204. ], dtype=float32),\n",
       " array([1954242.2, 2069931.4], dtype=float32),\n",
       " array([1978010.5, 1858945. ], dtype=float32),\n",
       " array([2026129.2, 2057553.8], dtype=float32),\n",
       " array([1991795.1, 1964983.4], dtype=float32),\n",
       " -1]"
      ]
     },
     "execution_count": 56,
     "metadata": {},
     "output_type": "execute_result"
    }
   ],
   "source": [
    "get_labels(D.batch(100))"
   ]
  },
  {
   "cell_type": "code",
   "execution_count": null,
   "metadata": {
    "collapsed": true,
    "deletable": true,
    "editable": true
   },
   "outputs": [],
   "source": []
  }
 ],
 "metadata": {
  "kernelspec": {
   "display_name": "Python 3",
   "language": "python",
   "name": "python3"
  },
  "language_info": {
   "codemirror_mode": {
    "name": "ipython",
    "version": 3
   },
   "file_extension": ".py",
   "mimetype": "text/x-python",
   "name": "python",
   "nbconvert_exporter": "python",
   "pygments_lexer": "ipython3",
   "version": "3.4.3"
  }
 },
 "nbformat": 4,
 "nbformat_minor": 2
}
