{
 "cells": [
  {
   "cell_type": "code",
   "execution_count": 19,
   "metadata": {
    "collapsed": false,
    "deletable": true,
    "editable": true
   },
   "outputs": [],
   "source": [
    "from sample_bot import *\n",
    "import shutil\n",
    "import argparse\n",
    "from datetime import datetime\n",
    "\n",
    "import socketio\n",
    "import eventlet\n",
    "import eventlet.wsgi\n",
    "from flask import Flask\n",
    "\n",
    "import math\n",
    "from queue import Queue\n",
    "\n",
    "import sys\n",
    "sys.path.append('/home/louner/school/ml/reinforcement-learning/')\n",
    "from lab import *\n",
    "\n",
    "import tensorflow.contrib.slim as slim\n",
    "from random import random, choice\n",
    "\n",
    "from time import sleep"
   ]
  },
  {
   "cell_type": "code",
   "execution_count": 20,
   "metadata": {
    "collapsed": true,
    "deletable": true,
    "editable": true
   },
   "outputs": [],
   "source": [
    "batch_size = 100\n",
    "max_size = batch_size*10\n",
    "t_max = 5\n",
    "reload_window = 100\n",
    "reward_decay = 0.99\n",
    "last_state = None\n",
    "last_action = None\n",
    "last_reward = None\n",
    "learning_rate = 0.001\n",
    "mu = 0.999"
   ]
  },
  {
   "cell_type": "code",
   "execution_count": 21,
   "metadata": {
    "collapsed": true,
    "deletable": true,
    "editable": true
   },
   "outputs": [],
   "source": [
    "# 11 possible steering angles, 0 and 5 uniformly selected angle from 0~pi and 0~-1*pi\n",
    "#ANGLES = [-3.141592653589793, -2.5132741228718345, -1.8849555921538759, -1.2566370614359172, -0.6283185307179586, 0, 0.6283185307179586, 1.2566370614359172, 1.8849555921538759, 2.5132741228718345, 3.141592653589793]\n",
    "ANGLES = [-0.349065850398866, -0.3316125578789227, -0.31415926535897937, -0.29670597283903605, -0.2792526803190927, -0.2617993877991494, -0.24434609527920612, -0.22689280275926282, -0.20943951023931953, -0.19198621771937624, -0.17453292519943295, -0.15707963267948966, -0.13962634015954636, -0.12217304763960306, -0.10471975511965977, -0.08726646259971647, -0.06981317007977318, -0.05235987755982989, -0.03490658503988659, -0.017453292519943295, 0, 0.017453292519943295, 0.03490658503988659, 0.05235987755982989, 0.06981317007977318, 0.08726646259971647, 0.10471975511965977, 0.12217304763960306, 0.13962634015954636, 0.15707963267948966, 0.17453292519943295, 0.19198621771937624, 0.20943951023931953, 0.22689280275926282, 0.24434609527920612, 0.2617993877991494, 0.2792526803190927, 0.29670597283903605, 0.31415926535897937, 0.3316125578789227, 0.349065850398866]\n",
    "#ANGLES = [0.0]\n",
    "# 3 possible throttle options\n",
    "THROTTLES = [0.0, 0.5, 1.0]\n",
    "#THROTTLES = [0.0, 0.1]\n",
    "ACTIONS = [(angle, throttle) for angle in ANGLES for throttle in THROTTLES] #33 actions"
   ]
  },
  {
   "cell_type": "code",
   "execution_count": 22,
   "metadata": {
    "collapsed": false,
    "deletable": true,
    "editable": true
   },
   "outputs": [],
   "source": [
    "def send_control(steering_angle, throttle):\n",
    "    sio.emit(\n",
    "        \"steer\",\n",
    "        data={\n",
    "            'steering_angle': str(steering_angle),\n",
    "            'throttle': str(throttle)\n",
    "        },  \n",
    "        skip_sid=True)\n",
    "    \n",
    "def calculate_reward(steering_angle, speed):\n",
    "    return speed * math.cos(steering_angle)\n",
    "\n",
    "class Action:\n",
    "    def __init__(self, action_idx):\n",
    "        self.action_idx = action_idx\n",
    "        self.steering_angle = ACTIONS[action_idx][0]\n",
    "        self.throttle = ACTIONS[action_idx][1]\n",
    "        \n",
    "    def __repr__(self):\n",
    "        return str({'throttle': self.throttle, 'angle': self.steering_angle})"
   ]
  },
  {
   "cell_type": "code",
   "execution_count": 23,
   "metadata": {
    "collapsed": true,
    "deletable": true,
    "editable": true
   },
   "outputs": [],
   "source": [
    "class Transaction:\n",
    "    columns = ['state', 'action', 'reward', 'next_state', 'advantage']\n",
    "    \n",
    "    def __init__(self, item):\n",
    "        self.item = dict(zip(Transaction.columns, item))\n",
    "    \n",
    "    def  __lt__(self, other):\n",
    "        #sort by time\n",
    "        return self.item['id'] < other.item['id']\n",
    "        #sort by gained label\n",
    "        #return self.item['label'] < other.item['label']\n",
    "    \n",
    "    def __repr__(self):\n",
    "        return str(self.item)\n",
    "        \n",
    "    def __getitem__(self, key):\n",
    "        return self.item[key]\n",
    "    \n",
    "    def __setitem__(self, key, value):\n",
    "        self.item[key] = value\n"
   ]
  },
  {
   "cell_type": "code",
   "execution_count": 24,
   "metadata": {
    "collapsed": true,
    "deletable": true,
    "editable": true
   },
   "outputs": [],
   "source": [
    "# policy & value network only different at last layer\n",
    "# common part is cnn1-cnn1-fc\n",
    "def build_network():\n",
    "    with tf.variable_scope('Action-Critic-Network-Common', reuse=tf.AUTO_REUSE):\n",
    "        #inputs = tf.placeholder(shape=(None, 108, 320, 3), dtype=tf.float32) # track image\n",
    "        inputs = tf.placeholder(shape=(None, 240, 320, 3), dtype=tf.float32) # track image\n",
    "        layer_1 = slim.conv2d(inputs=inputs, num_outputs=16, kernel_size=(8, 8), stride=(8, 8), padding='VALID', activation_fn=tf.nn.elu)\n",
    "        layer_2 = slim.conv2d(inputs=layer_1, num_outputs=32, kernel_size=(4, 4), stride=(4, 4), padding='VALID', activation_fn=tf.nn.elu)\n",
    "        fc_layer = tf.layers.dense(inputs=slim.flatten(layer_2), units=256, activation=tf.nn.relu)\n",
    "    return inputs, fc_layer"
   ]
  },
  {
   "cell_type": "code",
   "execution_count": 25,
   "metadata": {
    "collapsed": false,
    "deletable": true,
    "editable": true
   },
   "outputs": [],
   "source": [
    "# P(state) = action probability\n",
    "class PolicyNetwork:\n",
    "    def __init__(self):\n",
    "        self.action_size = len(ACTIONS)\n",
    "        \n",
    "        self.advantage = tf.placeholder(shape=(None, self.action_size), dtype=tf.float32)\n",
    "        \n",
    "        inputs, output = build_network()\n",
    "        self.inputs = inputs\n",
    "    \n",
    "        self.metrics = {}\n",
    "        self.metrics['loss'] = []\n",
    "        \n",
    "        with tf.variable_scope('policy-network'):\n",
    "            self.actions_values = tf.layers.dense(output, units=self.action_size, activation=tf.nn.softmax) # batch_size, action_size\n",
    "            self.best_action = tf.argmax(self.actions_values, axis=1)\n",
    "\n",
    "            self.loss = tf.reduce_sum(tf.log(self.actions_values) * self.advantage)*-1\n",
    "            self.train_op = tf.train.AdamOptimizer(learning_rate=learning_rate).minimize(self.loss)\n",
    "\n",
    "        self.sess = tf.Session()\n",
    "        self.sess.run(tf.global_variables_initializer())\n",
    "    \n",
    "    def get_action(self, state):\n",
    "        best_action = self.sess.run(self.best_action, feed_dict={self.inputs: [state]})[0]\n",
    "        return best_action\n",
    "    \n",
    "    def update(self, batch):\n",
    "        states = [transaction['state'] for transaction in batch]\n",
    "        advantages = []\n",
    "        for transaction in batch:\n",
    "            # unselected actions get 0 advantage, selected action get reward - current_state_value advantage\n",
    "            advantage = [0]*self.action_size\n",
    "            advantage[transaction['action']] = transaction['advantage']\n",
    "\n",
    "            advantages.append(advantage)\n",
    "            \n",
    "        advantages = np.array(advantages)\n",
    "        \n",
    "        _, loss = self.sess.run([self.train_op, self.loss], feed_dict={self.inputs: states, self.advantage: advantages})\n",
    "        self.metrics['loss'].append(loss)"
   ]
  },
  {
   "cell_type": "code",
   "execution_count": 26,
   "metadata": {
    "collapsed": false,
    "deletable": true,
    "editable": true
   },
   "outputs": [],
   "source": [
    "# V(state) = state_value\n",
    "class ValueNetwork:\n",
    "    def __init__(self):\n",
    "        self.output_size = 1\n",
    "        self.model_folder = './model/value_network'\n",
    "        \n",
    "        self.rewards = tf.placeholder(shape=(None, 1), dtype=tf.float32)\n",
    "        inputs, output = build_network()\n",
    "        \n",
    "        with tf.variable_scope('value-network'):\n",
    "            self.inputs = inputs\n",
    "            self.state_value = tf.layers.dense(output, units=self.output_size)\n",
    "\n",
    "            self.loss = tf.reduce_sum(tf.square(self.state_value - self.rewards))\n",
    "            self.train_op = tf.train.AdamOptimizer(learning_rate=learning_rate).minimize(self.loss)\n",
    "\n",
    "        self.sess = tf.Session()\n",
    "        self.target_sess = tf.Session()\n",
    "        \n",
    "        self.sess.run(tf.global_variables_initializer())\n",
    "        self.target_sess.run(tf.global_variables_initializer())\n",
    "\n",
    "        self.saver = tf.train.Saver()\n",
    "        \n",
    "        self.metrics = {}\n",
    "        self.metrics['loss'] = []\n",
    "    \n",
    "    def get_state_values(self, states):\n",
    "        state_values = self.target_sess.run(self.state_value, feed_dict={self.inputs: states})\n",
    "        return state_values\n",
    "    \n",
    "    def get_state_value(self, state):\n",
    "        return self.get_state_values([state])[0]\n",
    "    \n",
    "    def update(self, batch):\n",
    "        inputs = [transaction['state'] for transaction in batch]\n",
    "        rewards = [transaction['reward'] for transaction in batch]\n",
    "        \n",
    "        _, loss = self.sess.run([self.train_op, self.loss], feed_dict={self.inputs: inputs, self.rewards: rewards})\n",
    "        self.metrics['loss'].append(loss)\n",
    "    \n",
    "    def reload(self, model_name):\n",
    "        self.saver.save(self.sess, '%s/%s'%(self.model_folder, model_name))\n",
    "        self.saver.restore(self.target_sess, tf.train.latest_checkpoint(self.model_folder))"
   ]
  },
  {
   "cell_type": "code",
   "execution_count": 27,
   "metadata": {
    "collapsed": true,
    "deletable": true,
    "editable": true
   },
   "outputs": [],
   "source": [
    "# when t_max transactions are collected, calculate first transaction's reward/advantage\n",
    "def add_advantage(transaction, transactions, value_network):\n",
    "    final_state = transactions[-1]['state']\n",
    "    final_state_value = value_network.get_state_value(final_state)\n",
    "    \n",
    "    reward = final_state_value\n",
    "    for t in reversed(transactions):\n",
    "        reward += t['reward']\n",
    "        reward *= reward_decay\n",
    "        \n",
    "    transaction['reward'] = reward\n",
    "    \n",
    "    current_state = transaction['state']\n",
    "    current_state_value = value_network.get_state_value(current_state)\n",
    "    \n",
    "    advantage = reward - current_state_value\n",
    "    transaction['advantage'] = advantage"
   ]
  },
  {
   "cell_type": "code",
   "execution_count": 32,
   "metadata": {
    "collapsed": true
   },
   "outputs": [],
   "source": [
    "def end_and_restart_new_game():\n",
    "    print('restarting...')\n",
    "    pyautogui.press('esc')\n",
    "    pyautogui.click()"
   ]
  },
  {
   "cell_type": "code",
   "execution_count": 33,
   "metadata": {
    "collapsed": false,
    "deletable": true,
    "editable": true
   },
   "outputs": [],
   "source": [
    "class ACNDrive(AutoDrive):\n",
    "    def __init__(self, *args, **kwargs):\n",
    "        AutoDrive.__init__(self, *args, **kwargs)\n",
    "        \n",
    "        self.policy_network = PolicyNetwork()\n",
    "        self.value_network = ValueNetwork()\n",
    "        \n",
    "        self.memory = Memory(max_size=max_size)\n",
    "        self.transactions = []\n",
    "        self.round_id = 1\n",
    "        \n",
    "        self.last_state = None\n",
    "        self.last_action = None\n",
    "        self.last_reward = None\n",
    "        \n",
    "        self.mu = 0.5\n",
    "\n",
    "    def on_dashboard(self, src_img, last_steering_angle, speed, throttle, info):        \n",
    "        # get angle to calculate reward\n",
    "        try:\n",
    "            track_img     = ImageProcessor.preprocess(src_img)\n",
    "            current_angle = ImageProcessor.find_steering_angle_by_color(track_img, last_steering_angle, debug = self.debug)\n",
    "            steering_angle = self._steering_pid.update(-current_angle)\n",
    "            throttle       = self._throttle_pid.update(speed)\n",
    "        except:\n",
    "            end_and_restart_new_game()\n",
    "        \n",
    "        # update last transaction\n",
    "        # because can't get next state right after executing action QQ\n",
    "        state = src_img\n",
    "        if self.last_state is not None:\n",
    "            transaction = Transaction([self.last_state, self.last_action, self.last_reward, state, None])\n",
    "            self.transactions.append(transaction)\n",
    "        \n",
    "        # select action according to current state\n",
    "        action = self.policy_network.get_action(state)\n",
    "        \n",
    "        if random() < self.mu:\n",
    "            action = randint(a=0, b=len(ACTIONS)-1)\n",
    "        action = Action(action)\n",
    "        steering_angle, throttle = action.steering_angle, action.throttle\n",
    "        \n",
    "        self.last_action = action.action_idx\n",
    "        self.last_reward = calculate_reward(steering_angle, speed)\n",
    "        self.last_state = state\n",
    "        \n",
    "        # execute action\n",
    "        self._car.control(steering_angle, throttle)\n",
    "        self.round_id += 1\n",
    "        \n",
    "        print(len(drive.memory.d), len(self.transactions), self.last_reward, steering_angle)\n",
    "        \n",
    "        # update policy & value network\n",
    "        batch = self.memory.batch(batch_size)\n",
    "        if batch.any():\n",
    "            self.policy_network.update(batch)\n",
    "            self.value_network.update(batch)\n",
    "        \n",
    "        # when storing t_max transactions, update first transaction's label, pop & push it into memory\n",
    "        if len(self.transactions) == t_max:\n",
    "            transaction = self.transactions[0]\n",
    "            add_advantage(transaction, self.transactions, self.value_network)\n",
    "            self.memory.insert(transaction)\n",
    "            self.transactions = self.transactions[1:]\n",
    "        \n",
    "        # reload policy & value network periodically\n",
    "        if self.round_id % reload_window == 0:\n",
    "            #policy_network.reload() #policy network need reload ?\n",
    "            self.value_network.reload(str(info))\n",
    "            \n",
    "        #self.mu *= self.mu"
   ]
  },
  {
   "cell_type": "code",
   "execution_count": 34,
   "metadata": {
    "collapsed": false,
    "deletable": true,
    "editable": true
   },
   "outputs": [],
   "source": [
    "tf.reset_default_graph()\n",
    "\n",
    "sio = socketio.Server()\n",
    "record_folder = './records/'\n",
    "car = Car(control_function = send_control)\n",
    "#drive = AutoDrive(car, record_folder=record_folder)\n",
    "drive = ACNDrive(car, record_folder=record_folder)\n",
    "\n",
    "@sio.on('telemetry')\n",
    "def telemetry(sid, dashboard):\n",
    "    if dashboard:\n",
    "        car.on_dashboard(dashboard)\n",
    "    else:\n",
    "        sio.emit('manual', data={}, skip_sid=True)\n",
    "\n",
    "@sio.on('connect')\n",
    "def connect(sid, environ):\n",
    "    car.control(0, 0)"
   ]
  },
  {
   "cell_type": "code",
   "execution_count": null,
   "metadata": {
    "collapsed": false,
    "scrolled": true
   },
   "outputs": [
    {
     "name": "stderr",
     "output_type": "stream",
     "text": [
      "(5752) wsgi starting up on http://0.0.0.0:4567\n",
      "(5752) accepted ('127.0.0.1', 59772)\n"
     ]
    },
    {
     "name": "stdout",
     "output_type": "stream",
     "text": [
      "0 0 0.2778903424767491 -0.22689280275926282\n",
      "0 1 0.2851565626586028 -0.017453292519943295\n",
      "0 2 0.2727381164006577 -0.29670597283903605\n",
      "0 3 0.02382706810510278 0.3316125578789227\n",
      "0 4 0.024737005022881134 -0.19198621771937624\n",
      "0 5 0.024737005022881134 -0.19198621771937624\n",
      "1 5 0.15980976085162385 0.06981317007977318\n",
      "2 5 0.1572566747883158 -0.19198621771937624\n",
      "3 5 0.15053875784990253 -0.349065850398866\n",
      "4 5 0.298157239824282 -0.22689280275926282\n",
      "5 5 0.34937771640820076 -0.349065850398866\n",
      "6 5 0.35154380640782595 -0.3316125578789227\n",
      "7 5 0.36615152256993894 -0.17453292519943295\n",
      "8 5 0.4924289862421671 0.2617993877991494\n",
      "9 5 0.5379175656165388 0.31415926535897937\n",
      "10 5 0.5314901463165097 -0.349065850398866\n",
      "11 5 0.5314901463165097 -0.349065850398866\n",
      "12 5 0.6346683960788024 -0.349065850398866\n",
      "13 5 0.6860695824357916 -0.349065850398866\n",
      "14 5 0.7283215130946976 0.06981317007977318\n",
      "15 5 0.7261004358083764 -0.10471975511965977\n",
      "16 5 0.8135858710764394 -0.349065850398866\n",
      "17 5 0.8135858710764394 -0.349065850398866\n",
      "18 5 0.8322603763433966 0.2792526803190927\n",
      "19 5 0.9458006228210166 -0.349065850398866\n",
      "20 5 0.9766026484967903 0.24434609527920612\n",
      "21 5 0.9458006228210166 -0.349065850398866\n",
      "22 5 1.0312186820504556 -0.349065850398866\n",
      "23 5 1.0695581409785209 -0.349065850398866\n",
      "24 5 1.0695581409785209 -0.349065850398866\n",
      "25 5 1.1133275991552178 -0.20943951023931953\n",
      "26 5 1.04114140496635 -0.017453292519943295\n",
      "27 5 1.0335383077041085 0.12217304763960306\n",
      "28 5 0.9785019260243663 0.349065850398866\n",
      "restarting...\n"
     ]
    },
    {
     "name": "stderr",
     "output_type": "stream",
     "text": [
      "/usr/local/lib/python3.4/dist-packages/numpy/core/fromnumeric.py:2957: RuntimeWarning: Mean of empty slice.\n",
      "  out=out, **kwargs)\n",
      "/usr/local/lib/python3.4/dist-packages/numpy/core/_methods.py:80: RuntimeWarning: invalid value encountered in double_scalars\n",
      "  ret = ret.dtype.type(ret / rcount)\n"
     ]
    },
    {
     "name": "stdout",
     "output_type": "stream",
     "text": [
      "29 5 1.0969971655054693 -0.349065850398866\n",
      "restarting...\n",
      "30 5 1.1589229092152609 -0.349065850398866\n",
      "restarting...\n",
      "31 5 1.221297609178979 0.13962634015954636\n"
     ]
    },
    {
     "name": "stderr",
     "output_type": "stream",
     "text": [
      "(5752) accepted ('127.0.0.1', 60244)\n",
      "(5752) accepted ('127.0.0.1', 44262)\n"
     ]
    },
    {
     "name": "stdout",
     "output_type": "stream",
     "text": [
      "32 5 0.4014953104519235 -0.15707963267948966\n",
      "33 5 0.38873788329897385 0.29670597283903605\n",
      "34 5 0.3819850503494717 -0.349065850398866\n",
      "35 5 0.023680254043804888 -0.349065850398866\n",
      "36 5 0.09070235175056415 -0.19198621771937624\n",
      "37 5 0.08682759816061793 -0.349065850398866\n",
      "38 5 0.21979410400182395 -0.349065850398866\n",
      "39 5 0.2325739236445123 -0.349065850398866\n",
      "40 5 0.2325739236445123 0.349065850398866\n",
      "41 5 0.21462579458750145 -0.349065850398866\n",
      "42 5 0.20786000771784294 -0.349065850398866\n",
      "43 5 0.20786000771784294 -0.349065850398866\n",
      "44 5 0.3422360524902278 -0.349065850398866\n",
      "45 5 0.3733398782382414 -0.349065850398866\n",
      "46 5 0.3733398782382414 -0.349065850398866\n",
      "47 5 0.5112645398548038 -0.2617993877991494\n",
      "48 5 0.5598415486123554 0.3316125578789227\n",
      "49 5 0.5563920007673363 0.349065850398866\n",
      "50 5 0.517850273122711 -0.31415926535897937\n",
      "51 5 0.5305445002755605 0.22689280275926282\n",
      "52 5 0.5437537816738655 -0.05235987755982989\n",
      "53 5 0.7235633180051494 -0.349065850398866\n",
      "54 5 0.7235633180051494 -0.349065850398866\n",
      "55 5 0.7401715058725056 -0.2792526803190927\n",
      "56 5 0.909246579872445 -0.349065850398866\n",
      "57 5 1.0070465985615173 0.017453292519943295\n",
      "58 5 1.0047465114216951 0.06981317007977318\n",
      "restarting...\n",
      "59 5 0.6574089575018215 -0.349065850398866\n",
      "restarting...\n",
      "60 5 0.5781928695695694 -0.349065850398866\n",
      "restarting...\n",
      "61 5 0.5781928695695694 -0.349065850398866\n"
     ]
    },
    {
     "name": "stderr",
     "output_type": "stream",
     "text": [
      "(5752) accepted ('127.0.0.1', 56007)\n"
     ]
    },
    {
     "name": "stdout",
     "output_type": "stream",
     "text": [
      "62 5 0.406438088081073 0.017453292519943295\n",
      "63 5 0.3819850503494717 -0.349065850398866\n",
      "64 5 0.3819850503494717 -0.349065850398866\n",
      "65 5 0.022082776588468845 -0.349065850398866\n",
      "66 5 0.013437604477238489 -0.349065850398866\n",
      "67 5 0.014193409968470905 0.12217304763960306\n",
      "68 5 0.0005977168188550472 -0.08726646259971647\n",
      "69 5 0.0002819077862357725 -0.349065850398866\n",
      "70 5 0.0002819077862357725 -0.349065850398866\n",
      "71 5 0.24029542331236406 -0.12217304763960306\n",
      "72 5 0.30410924006924295 -0.15707963267948966\n",
      "73 5 0.28933135793998116 -0.349065850398866\n",
      "74 5 0.5911564561839718 0.06981317007977318\n",
      "75 5 0.5603143079001551 -0.3316125578789227\n",
      "76 5 0.5667061983836948 0.29670597283903605\n",
      "77 5 0.5045288195457949 -0.22689280275926282\n",
      "78 5 0.48657283904294335 -0.349065850398866\n",
      "79 5 0.516538665224537 0.06981317007977318\n",
      "80 5 0.7895187533450857 -0.03490658503988659\n",
      "81 5 0.8272433125673297 -0.10471975511965977\n",
      "82 5 0.8318 0\n",
      "83 5 1.0141162763521523 -0.349065850398866\n",
      "84 5 1.0935203028085614 -0.349065850398866\n",
      "85 5 1.1338744443905782 0.22689280275926282\n",
      "restarting...\n",
      "86 5 0.5733550738037075 0.17453292519943295\n",
      "restarting...\n",
      "87 5 0.5470890438215559 -0.349065850398866\n",
      "restarting...\n",
      "88 5 0.5790106474834088 -0.10471975511965977\n"
     ]
    },
    {
     "name": "stderr",
     "output_type": "stream",
     "text": [
      "(5752) accepted ('127.0.0.1', 35947)\n"
     ]
    },
    {
     "name": "stdout",
     "output_type": "stream",
     "text": [
      "89 5 0.3960814313351981 -0.22689280275926282\n",
      "90 5 0.3819850503494717 -0.349065850398866\n",
      "91 5 0.406438088081073 -0.017453292519943295\n",
      "92 5 0.01620393862880914 -0.24434609527920612\n",
      "93 5 0.11422188760704793 0.31415926535897937\n",
      "INFO:tensorflow:Restoring parameters from ./model/value_network/{'lap': 1, 'status': 0, 'elapsed': '0.060'}\n",
      "94 5 0.11285708375638759 -0.349065850398866\n",
      "95 5 0.26029485595769664 -0.349065850398866\n",
      "96 5 0.3177100750877156 -0.349065850398866\n",
      "97 5 0.33763664570052143 -0.05235987755982989\n",
      "98 5 0.556141958019852 -0.06981317007977318\n",
      "99 5 0.49850693532692436 -0.349065850398866\n",
      "100 5 0.5304192022804656 0.017453292519943295\n",
      "101 5 0.8361053952358176 0.2617993877991494\n",
      "102 5 0.8133979325522823 -0.349065850398866\n",
      "103 5 0.8133979325522823 -0.349065850398866\n",
      "restarting...\n",
      "104 5 1.1250000056048894 -0.349065850398866\n",
      "restarting...\n",
      "105 5 1.1550701694700385 -0.349065850398866\n",
      "restarting...\n",
      "106 5 1.1550701694700385 -0.349065850398866\n"
     ]
    }
   ],
   "source": [
    "app = socketio.Middleware(sio, Flask(__name__))\n",
    "eventlet.wsgi.server(eventlet.listen(('', 4567)), app)"
   ]
  },
  {
   "cell_type": "code",
   "execution_count": 1,
   "metadata": {
    "collapsed": false,
    "deletable": true,
    "editable": true
   },
   "outputs": [
    {
     "ename": "NameError",
     "evalue": "name 'drive' is not defined",
     "output_type": "error",
     "traceback": [
      "\u001b[0;31m---------------------------------------------------------------------------\u001b[0m",
      "\u001b[0;31mNameError\u001b[0m                                 Traceback (most recent call last)",
      "\u001b[0;32m<ipython-input-1-61571c67fdfd>\u001b[0m in \u001b[0;36m<module>\u001b[0;34m()\u001b[0m\n\u001b[0;32m----> 1\u001b[0;31m \u001b[0mlen\u001b[0m\u001b[0;34m(\u001b[0m\u001b[0mdrive\u001b[0m\u001b[0;34m.\u001b[0m\u001b[0mmemory\u001b[0m\u001b[0;34m.\u001b[0m\u001b[0md\u001b[0m\u001b[0;34m)\u001b[0m\u001b[0;34m,\u001b[0m \u001b[0mdrive\u001b[0m\u001b[0;34m.\u001b[0m\u001b[0mmemory\u001b[0m\u001b[0;34m.\u001b[0m\u001b[0mid\u001b[0m\u001b[0;34m,\u001b[0m\u001b[0;34m\u001b[0m\u001b[0m\n\u001b[0m",
      "\u001b[0;31mNameError\u001b[0m: name 'drive' is not defined"
     ]
    }
   ],
   "source": [
    "len(drive.memory.d), drive.memory.id, "
   ]
  },
  {
   "cell_type": "code",
   "execution_count": null,
   "metadata": {
    "collapsed": true,
    "deletable": true,
    "editable": true
   },
   "outputs": [],
   "source": [
    "%%bash\n",
    "cd ../Linux/\n",
    "sh StartGame_local.sh &"
   ]
  },
  {
   "cell_type": "code",
   "execution_count": 17,
   "metadata": {
    "collapsed": false,
    "deletable": true,
    "editable": true
   },
   "outputs": [
    {
     "name": "stdout",
     "output_type": "stream",
     "text": [
      "[-0.349065850398866, -0.3316125578789227, -0.31415926535897937, -0.29670597283903605, -0.2792526803190927, -0.2617993877991494, -0.24434609527920612, -0.22689280275926282, -0.20943951023931953, -0.19198621771937624, -0.17453292519943295, -0.15707963267948966, -0.13962634015954636, -0.12217304763960306, -0.10471975511965977, -0.08726646259971647, -0.06981317007977318, -0.05235987755982989, -0.03490658503988659, -0.017453292519943295, 0, 0.017453292519943295, 0.03490658503988659, 0.05235987755982989, 0.06981317007977318, 0.08726646259971647, 0.10471975511965977, 0.12217304763960306, 0.13962634015954636, 0.15707963267948966, 0.17453292519943295, 0.19198621771937624, 0.20943951023931953, 0.22689280275926282, 0.24434609527920612, 0.2617993877991494, 0.2792526803190927, 0.29670597283903605, 0.31415926535897937, 0.3316125578789227, 0.349065850398866]\n"
     ]
    }
   ],
   "source": [
    "largest_angle = math.pi/9\n",
    "angle, step_angle = 0, largest_angle/20.0\n",
    "angles = [angle]\n",
    "\n",
    "while angle < largest_angle:\n",
    "    angle += step_angle\n",
    "    angles.append(angle)\n",
    "    angles.append(angle*-1)\n",
    "print(sorted(angles))"
   ]
  },
  {
   "cell_type": "code",
   "execution_count": 15,
   "metadata": {
    "collapsed": false,
    "deletable": true,
    "editable": true
   },
   "outputs": [
    {
     "name": "stdout",
     "output_type": "stream",
     "text": [
      "0\n",
      "1\n",
      "2\n",
      "3\n",
      "4\n",
      "5\n"
     ]
    },
    {
     "ename": "KeyboardInterrupt",
     "evalue": "",
     "output_type": "error",
     "traceback": [
      "\u001b[0;31m---------------------------------------------------------------------------\u001b[0m",
      "\u001b[0;31mKeyboardInterrupt\u001b[0m                         Traceback (most recent call last)",
      "\u001b[0;32m<ipython-input-15-6f504d2ded05>\u001b[0m in \u001b[0;36m<module>\u001b[0;34m()\u001b[0m\n\u001b[1;32m      4\u001b[0m     \u001b[0;31m#pyautogui.click()\u001b[0m\u001b[0;34m\u001b[0m\u001b[0;34m\u001b[0m\u001b[0m\n\u001b[1;32m      5\u001b[0m     \u001b[0mprint\u001b[0m\u001b[0;34m(\u001b[0m\u001b[0mi\u001b[0m\u001b[0;34m)\u001b[0m\u001b[0;34m\u001b[0m\u001b[0m\n\u001b[0;32m----> 6\u001b[0;31m     \u001b[0msleep\u001b[0m\u001b[0;34m(\u001b[0m\u001b[0;36m1\u001b[0m\u001b[0;34m)\u001b[0m\u001b[0;34m\u001b[0m\u001b[0m\n\u001b[0m\u001b[1;32m      7\u001b[0m \u001b[0;34m\u001b[0m\u001b[0m\n\u001b[1;32m      8\u001b[0m \u001b[0;34m\u001b[0m\u001b[0m\n",
      "\u001b[0;31mKeyboardInterrupt\u001b[0m: "
     ]
    }
   ],
   "source": [
    "import pyautogui\n",
    "for i in range(10):\n",
    "    pyautogui.press('esc')\n",
    "    #pyautogui.click()\n",
    "    print(i)\n",
    "    sleep(1)\n",
    "    \n",
    "    "
   ]
  },
  {
   "cell_type": "code",
   "execution_count": 6,
   "metadata": {
    "collapsed": false
   },
   "outputs": [
    {
     "data": {
      "text/plain": [
       "['\\t',\n",
       " '\\n',\n",
       " '\\r',\n",
       " ' ',\n",
       " '!',\n",
       " '\"',\n",
       " '#',\n",
       " '$',\n",
       " '%',\n",
       " '&',\n",
       " \"'\",\n",
       " '(',\n",
       " ')',\n",
       " '*',\n",
       " '+',\n",
       " ',',\n",
       " '-',\n",
       " '.',\n",
       " '/',\n",
       " '0',\n",
       " '1',\n",
       " '2',\n",
       " '3',\n",
       " '4',\n",
       " '5',\n",
       " '6',\n",
       " '7',\n",
       " '8',\n",
       " '9',\n",
       " ':',\n",
       " ';',\n",
       " '<',\n",
       " '=',\n",
       " '>',\n",
       " '?',\n",
       " '@',\n",
       " '[',\n",
       " '\\\\',\n",
       " ']',\n",
       " '^',\n",
       " '_',\n",
       " '`',\n",
       " 'a',\n",
       " 'b',\n",
       " 'c',\n",
       " 'd',\n",
       " 'e',\n",
       " 'f',\n",
       " 'g',\n",
       " 'h',\n",
       " 'i',\n",
       " 'j',\n",
       " 'k',\n",
       " 'l',\n",
       " 'm',\n",
       " 'n',\n",
       " 'o',\n",
       " 'p',\n",
       " 'q',\n",
       " 'r',\n",
       " 's',\n",
       " 't',\n",
       " 'u',\n",
       " 'v',\n",
       " 'w',\n",
       " 'x',\n",
       " 'y',\n",
       " 'z',\n",
       " '{',\n",
       " '|',\n",
       " '}',\n",
       " '~',\n",
       " 'accept',\n",
       " 'add',\n",
       " 'alt',\n",
       " 'altleft',\n",
       " 'altright',\n",
       " 'apps',\n",
       " 'backspace',\n",
       " 'browserback',\n",
       " 'browserfavorites',\n",
       " 'browserforward',\n",
       " 'browserhome',\n",
       " 'browserrefresh',\n",
       " 'browsersearch',\n",
       " 'browserstop',\n",
       " 'capslock',\n",
       " 'clear',\n",
       " 'convert',\n",
       " 'ctrl',\n",
       " 'ctrlleft',\n",
       " 'ctrlright',\n",
       " 'decimal',\n",
       " 'del',\n",
       " 'delete',\n",
       " 'divide',\n",
       " 'down',\n",
       " 'end',\n",
       " 'enter',\n",
       " 'esc',\n",
       " 'escape',\n",
       " 'execute',\n",
       " 'f1',\n",
       " 'f10',\n",
       " 'f11',\n",
       " 'f12',\n",
       " 'f13',\n",
       " 'f14',\n",
       " 'f15',\n",
       " 'f16',\n",
       " 'f17',\n",
       " 'f18',\n",
       " 'f19',\n",
       " 'f2',\n",
       " 'f20',\n",
       " 'f21',\n",
       " 'f22',\n",
       " 'f23',\n",
       " 'f24',\n",
       " 'f3',\n",
       " 'f4',\n",
       " 'f5',\n",
       " 'f6',\n",
       " 'f7',\n",
       " 'f8',\n",
       " 'f9',\n",
       " 'final',\n",
       " 'fn',\n",
       " 'hanguel',\n",
       " 'hangul',\n",
       " 'hanja',\n",
       " 'help',\n",
       " 'home',\n",
       " 'insert',\n",
       " 'junja',\n",
       " 'kana',\n",
       " 'kanji',\n",
       " 'launchapp1',\n",
       " 'launchapp2',\n",
       " 'launchmail',\n",
       " 'launchmediaselect',\n",
       " 'left',\n",
       " 'modechange',\n",
       " 'multiply',\n",
       " 'nexttrack',\n",
       " 'nonconvert',\n",
       " 'num0',\n",
       " 'num1',\n",
       " 'num2',\n",
       " 'num3',\n",
       " 'num4',\n",
       " 'num5',\n",
       " 'num6',\n",
       " 'num7',\n",
       " 'num8',\n",
       " 'num9',\n",
       " 'numlock',\n",
       " 'pagedown',\n",
       " 'pageup',\n",
       " 'pause',\n",
       " 'pgdn',\n",
       " 'pgup',\n",
       " 'playpause',\n",
       " 'prevtrack',\n",
       " 'print',\n",
       " 'printscreen',\n",
       " 'prntscrn',\n",
       " 'prtsc',\n",
       " 'prtscr',\n",
       " 'return',\n",
       " 'right',\n",
       " 'scrolllock',\n",
       " 'select',\n",
       " 'separator',\n",
       " 'shift',\n",
       " 'shiftleft',\n",
       " 'shiftright',\n",
       " 'sleep',\n",
       " 'stop',\n",
       " 'subtract',\n",
       " 'tab',\n",
       " 'up',\n",
       " 'volumedown',\n",
       " 'volumemute',\n",
       " 'volumeup',\n",
       " 'win',\n",
       " 'winleft',\n",
       " 'winright',\n",
       " 'yen',\n",
       " 'command',\n",
       " 'option',\n",
       " 'optionleft',\n",
       " 'optionright']"
      ]
     },
     "execution_count": 6,
     "metadata": {},
     "output_type": "execute_result"
    }
   ],
   "source": [
    "pyautogui.KEYBOARD_KEYS\n",
    "\n",
    "\n"
   ]
  },
  {
   "cell_type": "code",
   "execution_count": null,
   "metadata": {
    "collapsed": true
   },
   "outputs": [],
   "source": []
  },
  {
   "cell_type": "code",
   "execution_count": null,
   "metadata": {
    "collapsed": true
   },
   "outputs": [],
   "source": []
  }
 ],
 "metadata": {
  "kernelspec": {
   "display_name": "Python 3",
   "language": "python",
   "name": "python3"
  },
  "language_info": {
   "codemirror_mode": {
    "name": "ipython",
    "version": 3
   },
   "file_extension": ".py",
   "mimetype": "text/x-python",
   "name": "python",
   "nbconvert_exporter": "python",
   "pygments_lexer": "ipython3",
   "version": "3.4.3"
  }
 },
 "nbformat": 4,
 "nbformat_minor": 2
}
